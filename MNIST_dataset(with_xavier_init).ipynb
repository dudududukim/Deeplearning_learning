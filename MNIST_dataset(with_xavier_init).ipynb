{
  "nbformat": 4,
  "nbformat_minor": 0,
  "metadata": {
    "colab": {
      "name": "MNIST dataset(with xavier init).ipynb",
      "provenance": [],
      "mount_file_id": "1uRPgD8fpPlZJ8Yur85QGpYLxUvsJWLnB",
      "authorship_tag": "ABX9TyOthQrupQyl3/wWLO0G8bBE",
      "include_colab_link": true
    },
    "kernelspec": {
      "display_name": "Python 3",
      "name": "python3"
    }
  },
  "cells": [
    {
      "cell_type": "markdown",
      "metadata": {
        "id": "view-in-github",
        "colab_type": "text"
      },
      "source": [
        "<a href=\"https://colab.research.google.com/github/dudududukim/Deeplearning_learning/blob/MNIST/MNIST_dataset(with_xavier_init).ipynb\" target=\"_parent\"><img src=\"https://colab.research.google.com/assets/colab-badge.svg\" alt=\"Open In Colab\"/></a>"
      ]
    },
    {
      "cell_type": "code",
      "metadata": {
        "colab": {
          "base_uri": "https://localhost:8080/"
        },
        "id": "OHM4QF4ZHAlY",
        "outputId": "fdbe0a08-baaa-43d4-d0fc-a92a232c377a"
      },
      "source": [
        "pip install tensorflow==1.4.0"
      ],
      "execution_count": 1,
      "outputs": [
        {
          "output_type": "stream",
          "text": [
            "Requirement already satisfied: tensorflow==1.4.0 in /usr/local/lib/python3.6/dist-packages (1.4.0)\n",
            "Requirement already satisfied: numpy>=1.12.1 in /usr/local/lib/python3.6/dist-packages (from tensorflow==1.4.0) (1.19.5)\n",
            "Requirement already satisfied: enum34>=1.1.6 in /usr/local/lib/python3.6/dist-packages (from tensorflow==1.4.0) (1.1.10)\n",
            "Requirement already satisfied: tensorflow-tensorboard<0.5.0,>=0.4.0rc1 in /usr/local/lib/python3.6/dist-packages (from tensorflow==1.4.0) (0.4.0)\n",
            "Requirement already satisfied: six>=1.10.0 in /usr/local/lib/python3.6/dist-packages (from tensorflow==1.4.0) (1.15.0)\n",
            "Requirement already satisfied: protobuf>=3.3.0 in /usr/local/lib/python3.6/dist-packages (from tensorflow==1.4.0) (3.12.4)\n",
            "Requirement already satisfied: wheel>=0.26 in /usr/local/lib/python3.6/dist-packages (from tensorflow==1.4.0) (0.36.2)\n",
            "Requirement already satisfied: markdown>=2.6.8 in /usr/local/lib/python3.6/dist-packages (from tensorflow-tensorboard<0.5.0,>=0.4.0rc1->tensorflow==1.4.0) (3.3.3)\n",
            "Requirement already satisfied: werkzeug>=0.11.10 in /usr/local/lib/python3.6/dist-packages (from tensorflow-tensorboard<0.5.0,>=0.4.0rc1->tensorflow==1.4.0) (1.0.1)\n",
            "Requirement already satisfied: html5lib==0.9999999 in /usr/local/lib/python3.6/dist-packages (from tensorflow-tensorboard<0.5.0,>=0.4.0rc1->tensorflow==1.4.0) (0.9999999)\n",
            "Requirement already satisfied: bleach==1.5.0 in /usr/local/lib/python3.6/dist-packages (from tensorflow-tensorboard<0.5.0,>=0.4.0rc1->tensorflow==1.4.0) (1.5.0)\n",
            "Requirement already satisfied: setuptools in /usr/local/lib/python3.6/dist-packages (from protobuf>=3.3.0->tensorflow==1.4.0) (53.0.0)\n",
            "Requirement already satisfied: importlib-metadata; python_version < \"3.8\" in /usr/local/lib/python3.6/dist-packages (from markdown>=2.6.8->tensorflow-tensorboard<0.5.0,>=0.4.0rc1->tensorflow==1.4.0) (3.4.0)\n",
            "Requirement already satisfied: typing-extensions>=3.6.4; python_version < \"3.8\" in /usr/local/lib/python3.6/dist-packages (from importlib-metadata; python_version < \"3.8\"->markdown>=2.6.8->tensorflow-tensorboard<0.5.0,>=0.4.0rc1->tensorflow==1.4.0) (3.7.4.3)\n",
            "Requirement already satisfied: zipp>=0.5 in /usr/local/lib/python3.6/dist-packages (from importlib-metadata; python_version < \"3.8\"->markdown>=2.6.8->tensorflow-tensorboard<0.5.0,>=0.4.0rc1->tensorflow==1.4.0) (3.4.0)\n"
          ],
          "name": "stdout"
        }
      ]
    },
    {
      "cell_type": "code",
      "metadata": {
        "colab": {
          "base_uri": "https://localhost:8080/"
        },
        "id": "y31xt7ijHO36",
        "outputId": "164c02e4-4d68-4da6-94fe-79c301089eaa"
      },
      "source": [
        "#epoch와 batch를 이용\n",
        " \n",
        "import numpy as np\n",
        "import tensorflow as tf\n",
        "import matplotlib.pyplot as plt\n",
        "import random\n",
        "import torch\n",
        " \n",
        "tf.set_random_seed(777)  # for reproducibility\n",
        " \n",
        "'''\n",
        "from tensorflow.examples.tutorials.mnist import input_data\n",
        " \n",
        "# Check out https://www.tensorflow.org/get_started/mnist/beginners for\n",
        "# more information about the mnist dataset\n",
        "mnist = input_data.read_data_sets(\"MNIST_data/\", one_hot=True)\n",
        " \n",
        "nb_classes = 10\n",
        "'''\n",
        "#file input from google drive\n",
        "xy=np.loadtxt('/content/drive/MyDrive/tensorflow/mnist/train.csv',delimiter=',',dtype=np.float32)\n",
        "x_data = xy[:,1:]\n",
        "y_data = xy[:,0]\n",
        " \n",
        "xy_test=np.loadtxt('/content/drive/MyDrive/tensorflow/mnist/mnist_test.csv',delimiter=',',dtype=np.float32)\n",
        "test_x = xy_test[:,1:]\n",
        "test_y = xy_test[:,0]\n",
        " \n",
        "print(y_data)\n",
        "print(len(y_data))\n",
        "print(y_data.reshape(len(y_data),1))\n",
        " \n",
        "'''\n",
        "filename_queue = tf.train.string_input_producer(\n",
        "    ['/content/drive/MyDrive/tensorflow/mnist/train.csv'], shuffle=False, name='filename_queue')\n",
        " \n",
        "reader=tf.TextLineReader()\n",
        "key, value = reader.read(filename_queue)\n",
        " \n",
        "record_defaults=[[0.]]*785\n",
        "xy=tf.decode_csv(value, record_defaults=record_defaults)\n",
        " \n",
        "train_x, train_y =(tf.train.batch([xy[1:], xy[:1]],batch_size=1000))\n",
        "test_x, test_y =(tf.train.batch([xy[1:], xy[:1]],batch_size=100))\n",
        "'''\n",
        " \n",
        "print('Data loaded!!')"
      ],
      "execution_count": 3,
      "outputs": [
        {
          "output_type": "stream",
          "text": [
            "/usr/local/lib/python3.6/dist-packages/tensorflow/python/framework/dtypes.py:469: FutureWarning: Passing (type, 1) or '1type' as a synonym of type is deprecated; in a future version of numpy, it will be understood as (type, (1,)) / '(1,)type'.\n",
            "  _np_qint8 = np.dtype([(\"qint8\", np.int8, 1)])\n",
            "/usr/local/lib/python3.6/dist-packages/tensorflow/python/framework/dtypes.py:470: FutureWarning: Passing (type, 1) or '1type' as a synonym of type is deprecated; in a future version of numpy, it will be understood as (type, (1,)) / '(1,)type'.\n",
            "  _np_quint8 = np.dtype([(\"quint8\", np.uint8, 1)])\n",
            "/usr/local/lib/python3.6/dist-packages/tensorflow/python/framework/dtypes.py:471: FutureWarning: Passing (type, 1) or '1type' as a synonym of type is deprecated; in a future version of numpy, it will be understood as (type, (1,)) / '(1,)type'.\n",
            "  _np_qint16 = np.dtype([(\"qint16\", np.int16, 1)])\n",
            "/usr/local/lib/python3.6/dist-packages/tensorflow/python/framework/dtypes.py:472: FutureWarning: Passing (type, 1) or '1type' as a synonym of type is deprecated; in a future version of numpy, it will be understood as (type, (1,)) / '(1,)type'.\n",
            "  _np_quint16 = np.dtype([(\"quint16\", np.uint16, 1)])\n",
            "/usr/local/lib/python3.6/dist-packages/tensorflow/python/framework/dtypes.py:473: FutureWarning: Passing (type, 1) or '1type' as a synonym of type is deprecated; in a future version of numpy, it will be understood as (type, (1,)) / '(1,)type'.\n",
            "  _np_qint32 = np.dtype([(\"qint32\", np.int32, 1)])\n",
            "/usr/local/lib/python3.6/dist-packages/tensorflow/python/framework/dtypes.py:476: FutureWarning: Passing (type, 1) or '1type' as a synonym of type is deprecated; in a future version of numpy, it will be understood as (type, (1,)) / '(1,)type'.\n",
            "  np_resource = np.dtype([(\"resource\", np.ubyte, 1)])\n",
            "/usr/lib/python3.6/importlib/_bootstrap.py:219: RuntimeWarning: compiletime version 3.5 of module 'tensorflow.python.framework.fast_tensor_util' does not match runtime version 3.6\n",
            "  return f(*args, **kwds)\n"
          ],
          "name": "stderr"
        },
        {
          "output_type": "stream",
          "text": [
            "[1. 0. 1. ... 7. 6. 9.]\n",
            "42000\n",
            "[[1.]\n",
            " [0.]\n",
            " [1.]\n",
            " ...\n",
            " [7.]\n",
            " [6.]\n",
            " [9.]]\n",
            "Data loaded!!\n"
          ],
          "name": "stdout"
        }
      ]
    },
    {
      "cell_type": "code",
      "metadata": {
        "colab": {
          "base_uri": "https://localhost:8080/",
          "height": 1000
        },
        "id": "JOdyZX8iHRz1",
        "outputId": "852d4a10-c2eb-40fd-dec6-b93938739574"
      },
      "source": [
        "#input layer와 output layer의 개수를 이용한 initialization\n",
        "\n",
        "nb_classes = 10\n",
        " \n",
        "# MNIST data image of shape 28 * 28 = 784\n",
        "x = tf.placeholder(tf.float32, [None, 784])\n",
        "# 0 - 9 digits recognition = 10 classes\n",
        "y = tf.placeholder(tf.int32, [None, 1])\n",
        " \n",
        "y_one_hot = tf.one_hot(y, nb_classes)\n",
        "y_one_hot = tf.reshape(y_one_hot, [-1, nb_classes])\n",
        " \n",
        "w1 = tf.get_variable(\"W1\", shape=[784, 256], initializer=tf.contrib.layers.xavier_initializer())\n",
        "b1 = tf.Variable(tf.random_normal([256]))\n",
        "layer1=tf.nn.relu(tf.matmul(x, w1)+b1)\n",
        "\n",
        "w2 = tf.get_variable(\"W2\", shape=[256, 256], initializer=tf.contrib.layers.xavier_initializer())\n",
        "b2 = tf.Variable(tf.random_normal([256]))\n",
        "layer2=tf.nn.relu(tf.matmul(layer1, w2)+b2)\n",
        "\n",
        "w3 = tf.get_variable(\"W3\", shape=[256, nb_classes], initializer=tf.contrib.layers.xavier_initializer())\n",
        "b3 = tf.Variable(tf.random_normal([nb_classes]))\n",
        "\n",
        "# Hypothesis (using softmax)\n",
        "logits = tf.matmul(layer2,w3)+b3\n",
        "hypothesis = tf.nn.softmax(logits)\n",
        " \n",
        "cost_i=tf.nn.softmax_cross_entropy_with_logits(logits=logits, labels=y_one_hot)\n",
        "cost=tf.reduce_mean(cost_i)\n",
        " \n",
        "train = tf.train.GradientDescentOptimizer(learning_rate=1e-4).minimize(cost)\n",
        " \n",
        "# Test model\n",
        "is_correct = tf.equal(tf.argmax(hypothesis, 1), tf.argmax(y_one_hot, 1))\n",
        "# Calculate accuracy\n",
        "accuracy = tf.reduce_mean(tf.cast(is_correct, tf.float32))\n",
        " \n",
        "with tf.Session() as sess:\n",
        "  # parameters\n",
        "  num_epochs = 30\n",
        "  batch_size = 200\n",
        "  num_iterations = int(len(x_data)/ batch_size)\n",
        "  \n",
        "  # Initialize TensorFlow variables\n",
        "  sess.run(tf.global_variables_initializer())\n",
        "  # Training cycle\n",
        "  for epoch in range(num_epochs):\n",
        "    avg_cost = 0\n",
        "    for i in range(num_iterations):\n",
        "      srt = i*batch_size\n",
        "      x_batch = x_data[srt:srt+batch_size]\n",
        "      y_batch = y_data[srt:srt+batch_size]\n",
        "      _, cost_val = sess.run([train, cost], feed_dict={x: x_batch, y:y_batch.reshape(len(y_batch),1)})\n",
        "      avg_cost += cost_val / (num_iterations+1)\n",
        "\n",
        "    print(\"Epoch: {:04d}, Cost: {:.9f}\".format(epoch + 1, avg_cost))\n",
        "    \n",
        "  print(\"Learning finished\")\n",
        " \n",
        "  # Test the model using test sets\n",
        "  print(\n",
        "      \"Accuracy: \",\n",
        "      accuracy.eval(\n",
        "          session=sess, feed_dict={x: x_data, y: y_data.reshape(len(y_data),1)}\n",
        "      ),\n",
        "  )\n",
        " \n",
        "  # Get one and predict\n",
        "  for step in range(10):\n",
        "    r = random.randint(0, len(test_x) - 1)\n",
        "    print(\n",
        "      r, \"Prediction: \",\n",
        "      sess.run(tf.argmax(hypothesis, 1), feed_dict={x: test_x[r : r + 1]}),\n",
        "    )\n",
        " \n",
        "    plt.imshow(\n",
        "      test_x[r : r + 1].reshape(28, 28),\n",
        "      cmap=\"Greys\",\n",
        "      interpolation=\"nearest\",\n",
        "    )\n",
        "    plt.show()"
      ],
      "execution_count": null,
      "outputs": [
        {
          "output_type": "stream",
          "text": [
            "Epoch: 0001, Cost: 10.598051503\n",
            "Epoch: 0002, Cost: 3.954285629\n",
            "Epoch: 0003, Cost: 2.968509263\n",
            "Epoch: 0004, Cost: 2.421414083\n",
            "Epoch: 0005, Cost: 2.057833568\n",
            "Epoch: 0006, Cost: 1.798872619\n",
            "Epoch: 0007, Cost: 1.602178346\n",
            "Epoch: 0008, Cost: 1.446301368\n",
            "Epoch: 0009, Cost: 1.317552568\n",
            "Epoch: 0010, Cost: 1.209372939\n",
            "Epoch: 0011, Cost: 1.117290936\n",
            "Epoch: 0012, Cost: 1.037011879\n",
            "Epoch: 0013, Cost: 0.966264960\n",
            "Epoch: 0014, Cost: 0.903981235\n",
            "Epoch: 0015, Cost: 0.848581902\n",
            "Epoch: 0016, Cost: 0.798722811\n",
            "Epoch: 0017, Cost: 0.753614904\n",
            "Epoch: 0018, Cost: 0.712731908\n",
            "Epoch: 0019, Cost: 0.675318935\n",
            "Epoch: 0020, Cost: 0.640889866\n",
            "Epoch: 0021, Cost: 0.609111582\n",
            "Epoch: 0022, Cost: 0.579709222\n",
            "Epoch: 0023, Cost: 0.552171227\n",
            "Epoch: 0024, Cost: 0.526618616\n",
            "Epoch: 0025, Cost: 0.502663219\n",
            "Epoch: 0026, Cost: 0.480296011\n",
            "Epoch: 0027, Cost: 0.459153964\n",
            "Epoch: 0028, Cost: 0.439117629\n",
            "Epoch: 0029, Cost: 0.420207304\n",
            "Epoch: 0030, Cost: 0.402367558\n",
            "Learning finished\n",
            "Accuracy:  0.9607143\n",
            "20977 Prediction:  [6]\n"
          ],
          "name": "stdout"
        },
        {
          "output_type": "display_data",
          "data": {
            "image/png": "[encoded data removed]",
            "text/plain": [
              "<Figure size 432x288 with 1 Axes>"
            ]
          },
          "metadata": {
            "tags": []
          }
        },
        {
          "output_type": "stream",
          "text": [
            "16884 Prediction:  [4]\n"
          ],
          "name": "stdout"
        },
        {
          "output_type": "display_data",
          "data": {
            "image/png": "[encoded data removed]",
            "text/plain": [
              "<Figure size 432x288 with 1 Axes>"
            ]
          },
          "metadata": {
            "tags": []
          }
        },
        {
          "output_type": "stream",
          "text": [
            "18905 Prediction:  [2]\n"
          ],
          "name": "stdout"
        },
        {
          "output_type": "display_data",
          "data": {
            "image/png": "[encoded data removed]",
            "text/plain": [
              "<Figure size 432x288 with 1 Axes>"
            ]
          },
          "metadata": {
            "tags": []
          }
        },
        {
          "output_type": "stream",
          "text": [
            "5526 Prediction:  [5]\n"
          ],
          "name": "stdout"
        },
        {
          "output_type": "display_data",
          "data": {
            "image/png": "[encoded data removed]",
            "text/plain": [
              "<Figure size 432x288 with 1 Axes>"
            ]
          },
          "metadata": {
            "tags": []
          }
        },
        {
          "output_type": "stream",
          "text": [
            "20385 Prediction:  [2]\n"
          ],
          "name": "stdout"
        },
        {
          "output_type": "display_data",
          "data": {
            "image/png": "[encoded data removed]",
            "text/plain": [
              "<Figure size 432x288 with 1 Axes>"
            ]
          },
          "metadata": {
            "tags": []
          }
        },
        {
          "output_type": "stream",
          "text": [
            "4222 Prediction:  [2]\n"
          ],
          "name": "stdout"
        },
        {
          "output_type": "display_data",
          "data": {
            "image/png": "[encoded data removed]",
            "text/plain": [
              "<Figure size 432x288 with 1 Axes>"
            ]
          },
          "metadata": {
            "tags": []
          }
        },
        {
          "output_type": "stream",
          "text": [
            "14666 Prediction:  [7]\n"
          ],
          "name": "stdout"
        },
        {
          "output_type": "display_data",
          "data": {
            "image/png": "[encoded data removed]",
            "text/plain": [
              "<Figure size 432x288 with 1 Axes>"
            ]
          },
          "metadata": {
            "tags": []
          }
        },
        {
          "output_type": "stream",
          "text": [
            "6404 Prediction:  [8]\n"
          ],
          "name": "stdout"
        },
        {
          "output_type": "display_data",
          "data": {
            "image/png": "[encoded data removed]",
            "text/plain": [
              "<Figure size 432x288 with 1 Axes>"
            ]
          },
          "metadata": {
            "tags": []
          }
        },
        {
          "output_type": "stream",
          "text": [
            "8080 Prediction:  [1]\n"
          ],
          "name": "stdout"
        },
        {
          "output_type": "display_data",
          "data": {
            "image/png": "[encoded data removed]",
            "text/plain": [
              "<Figure size 432x288 with 1 Axes>"
            ]
          },
          "metadata": {
            "tags": []
          }
        },
        {
          "output_type": "stream",
          "text": [
            "1212 Prediction:  [8]\n"
          ],
          "name": "stdout"
        },
        {
          "output_type": "display_data",
          "data": {
            "image/png": "[encoded data removed]",
            "text/plain": [
              "<Figure size 432x288 with 1 Axes>"
            ]
          },
          "metadata": {
            "tags": []
          }
        }
      ]
    },
    {
      "cell_type": "code",
      "metadata": {
        "colab": {
          "base_uri": "https://localhost:8080/",
          "height": 1000
        },
        "id": "ngX_ZOu9Hsau",
        "outputId": "08b7761a-8107-49a8-a37c-64317d3d6cd1"
      },
      "source": [
        "#input layer와 output layer의 개수를 이용한 initialization\n",
        "\n",
        "nb_classes = 10\n",
        " \n",
        "# MNIST data image of shape 28 * 28 = 784\n",
        "x = tf.placeholder(tf.float32, [None, 784])\n",
        "# 0 - 9 digits recognition = 10 classes\n",
        "y = tf.placeholder(tf.int32, [None, 1])\n",
        " \n",
        "y_one_hot = tf.one_hot(y, nb_classes)\n",
        "y_one_hot = tf.reshape(y_one_hot, [-1, nb_classes])\n",
        " \n",
        "w1 = tf.get_variable(\"w1\", shape=[784, 512], initializer=tf.contrib.layers.xavier_initializer())\n",
        "b1 = tf.Variable(tf.random_normal([512]))\n",
        "layer1=tf.nn.relu(tf.matmul(x, w1)+b1)\n",
        "\n",
        "w2 = tf.get_variable(\"w2\", shape=[512, 512], initializer=tf.contrib.layers.xavier_initializer())\n",
        "b2 = tf.Variable(tf.random_normal([512]))\n",
        "layer2=tf.nn.relu(tf.matmul(layer1, w2)+b2)\n",
        "\n",
        "w3 = tf.get_variable(\"w3\", shape=[512, 256], initializer=tf.contrib.layers.xavier_initializer())\n",
        "b3 = tf.Variable(tf.random_normal([256]))\n",
        "layer3=tf.nn.relu(tf.matmul(layer2, w3)+b3)\n",
        "\n",
        "w4 = tf.get_variable(\"w4\", shape=[256, nb_classes], initializer=tf.contrib.layers.xavier_initializer())\n",
        "b4 = tf.Variable(tf.random_normal([nb_classes]))\n",
        "\n",
        "# Hypothesis (using softmax)\n",
        "logits = tf.matmul(layer3,w4)+b4\n",
        "hypothesis = tf.nn.softmax(logits)\n",
        " \n",
        "cost_i=tf.nn.softmax_cross_entropy_with_logits(logits=logits, labels=y_one_hot)\n",
        "cost=tf.reduce_mean(cost_i)\n",
        " \n",
        "train = tf.train.GradientDescentOptimizer(learning_rate=1e-4).minimize(cost)\n",
        " \n",
        "# Test model\n",
        "is_correct = tf.equal(tf.argmax(hypothesis, 1), tf.argmax(y_one_hot, 1))\n",
        "# Calculate accuracy\n",
        "accuracy = tf.reduce_mean(tf.cast(is_correct, tf.float32))\n",
        " \n",
        "with tf.Session() as sess:\n",
        "  # parameters\n",
        "  num_epochs = 15\n",
        "  batch_size = 200\n",
        "  num_iterations = int(len(x_data)/ batch_size)\n",
        "  \n",
        "  # Initialize TensorFlow variables\n",
        "  sess.run(tf.global_variables_initializer())\n",
        "  # Training cycle\n",
        "  for epoch in range(num_epochs):\n",
        "    avg_cost = 0\n",
        "    for i in range(num_iterations):\n",
        "      srt = i*batch_size\n",
        "      x_batch = x_data[srt:srt+batch_size]\n",
        "      y_batch = y_data[srt:srt+batch_size]\n",
        "      _, cost_val = sess.run([train, cost], feed_dict={x: x_batch, y:y_batch.reshape(len(y_batch),1)})\n",
        "      avg_cost += cost_val / num_iterations\n",
        "\n",
        "    print(\"Epoch: {:04d}, Cost: {:.9f}\".format(epoch + 1, avg_cost))\n",
        "    \n",
        "  print(\"Learning finished\")\n",
        " \n",
        "  # Test the model using test sets\n",
        "  print(\n",
        "      \"Accuracy: \",\n",
        "      accuracy.eval(\n",
        "          session=sess, feed_dict={x: x_data, y: y_data.reshape(len(y_data),1)}\n",
        "      ),\n",
        "  )\n",
        " \n",
        "  # Get one and predict\n",
        "  for step in range(10):\n",
        "    r = random.randint(0, len(test_x) - 1)\n",
        "    print(\n",
        "      r, \"Prediction: \",\n",
        "      sess.run(tf.argmax(hypothesis, 1), feed_dict={x: test_x[r : r + 1]}),\n",
        "    )\n",
        " \n",
        "    plt.imshow(\n",
        "      test_x[r : r + 1].reshape(28, 28),\n",
        "      cmap=\"Greys\",\n",
        "      interpolation=\"nearest\",\n",
        "    )\n",
        "    plt.show()"
      ],
      "execution_count": null,
      "outputs": [
        {
          "output_type": "stream",
          "text": [
            "Epoch: 0001, Cost: 7.085374933\n",
            "Epoch: 0002, Cost: 2.662612606\n",
            "Epoch: 0003, Cost: 1.941799931\n",
            "Epoch: 0004, Cost: 1.563088724\n",
            "Epoch: 0005, Cost: 1.317364916\n",
            "Epoch: 0006, Cost: 1.138919279\n",
            "Epoch: 0007, Cost: 1.001833216\n",
            "Epoch: 0008, Cost: 0.892272204\n",
            "Epoch: 0009, Cost: 0.801484341\n",
            "Epoch: 0010, Cost: 0.725810398\n",
            "Epoch: 0011, Cost: 0.661326510\n",
            "Epoch: 0012, Cost: 0.605230970\n",
            "Epoch: 0013, Cost: 0.555585136\n",
            "Epoch: 0014, Cost: 0.511359323\n",
            "Epoch: 0015, Cost: 0.472191968\n",
            "Learning finished\n",
            "Accuracy:  0.94633335\n",
            "26642 Prediction:  [9]\n"
          ],
          "name": "stdout"
        },
        {
          "output_type": "display_data",
          "data": {
            "image/png": "[encoded data removed]",
            "text/plain": [
              "<Figure size 432x288 with 1 Axes>"
            ]
          },
          "metadata": {
            "tags": []
          }
        },
        {
          "output_type": "stream",
          "text": [
            "842 Prediction:  [0]\n"
          ],
          "name": "stdout"
        },
        {
          "output_type": "display_data",
          "data": {
            "image/png": "[encoded data removed]",
            "text/plain": [
              "<Figure size 432x288 with 1 Axes>"
            ]
          },
          "metadata": {
            "tags": []
          }
        },
        {
          "output_type": "stream",
          "text": [
            "22557 Prediction:  [5]\n"
          ],
          "name": "stdout"
        },
        {
          "output_type": "display_data",
          "data": {
            "image/png": "[encoded data removed]",
            "text/plain": [
              "<Figure size 432x288 with 1 Axes>"
            ]
          },
          "metadata": {
            "tags": []
          }
        },
        {
          "output_type": "stream",
          "text": [
            "7149 Prediction:  [5]\n"
          ],
          "name": "stdout"
        },
        {
          "output_type": "display_data",
          "data": {
            "image/png": "[encoded data removed]",
            "text/plain": [
              "<Figure size 432x288 with 1 Axes>"
            ]
          },
          "metadata": {
            "tags": []
          }
        },
        {
          "output_type": "stream",
          "text": [
            "7254 Prediction:  [1]\n"
          ],
          "name": "stdout"
        },
        {
          "output_type": "display_data",
          "data": {
            "image/png": "[encoded data removed]",
            "text/plain": [
              "<Figure size 432x288 with 1 Axes>"
            ]
          },
          "metadata": {
            "tags": []
          }
        },
        {
          "output_type": "stream",
          "text": [
            "5334 Prediction:  [1]\n"
          ],
          "name": "stdout"
        },
        {
          "output_type": "display_data",
          "data": {
            "image/png": "[encoded data removed]",
            "text/plain": [
              "<Figure size 432x288 with 1 Axes>"
            ]
          },
          "metadata": {
            "tags": []
          }
        },
        {
          "output_type": "stream",
          "text": [
            "8230 Prediction:  [8]\n"
          ],
          "name": "stdout"
        },
        {
          "output_type": "display_data",
          "data": {
            "image/png": "[encoded data removed]",
            "text/plain": [
              "<Figure size 432x288 with 1 Axes>"
            ]
          },
          "metadata": {
            "tags": []
          }
        },
        {
          "output_type": "stream",
          "text": [
            "17073 Prediction:  [1]\n"
          ],
          "name": "stdout"
        },
        {
          "output_type": "display_data",
          "data": {
            "image/png": "[encoded data removed]",
            "text/plain": [
              "<Figure size 432x288 with 1 Axes>"
            ]
          },
          "metadata": {
            "tags": []
          }
        },
        {
          "output_type": "stream",
          "text": [
            "26812 Prediction:  [1]\n"
          ],
          "name": "stdout"
        },
        {
          "output_type": "display_data",
          "data": {
            "image/png": "[encoded data removed]",
            "text/plain": [
              "<Figure size 432x288 with 1 Axes>"
            ]
          },
          "metadata": {
            "tags": []
          }
        },
        {
          "output_type": "stream",
          "text": [
            "3104 Prediction:  [5]\n"
          ],
          "name": "stdout"
        },
        {
          "output_type": "display_data",
          "data": {
            "image/png": "[encoded data removed]",
            "text/plain": [
              "<Figure size 432x288 with 1 Axes>"
            ]
          },
          "metadata": {
            "tags": []
          }
        }
      ]
    },
    {
      "cell_type": "markdown",
      "metadata": {
        "id": "dJONFw3NKqsI"
      },
      "source": [
        "정확도가 높더라도, overfitting이 일어나 \n",
        "테스팅 데이터에 대해서\n",
        "정확도가 낮게 나올 수 있음"
      ]
    },
    {
      "cell_type": "code",
      "metadata": {
        "colab": {
          "base_uri": "https://localhost:8080/",
          "height": 1000
        },
        "id": "vjdNRdr2KBce",
        "outputId": "3ca214ba-2e40-4377-ced5-dbec3d31a052"
      },
      "source": [
        "#input layer와 output layer의 개수를 이용한 initialization\n",
        "#drop-out\n",
        "\n",
        "nb_classes = 10\n",
        " \n",
        "# MNIST data image of shape 28 * 28 = 784\n",
        "x = tf.placeholder(tf.float32, [None, 784])\n",
        "# 0 - 9 digits recognition = 10 classes\n",
        "y = tf.placeholder(tf.int32, [None, 1])\n",
        "\n",
        "keep_prob=tf.placeholder(tf.float32)\n",
        "\n",
        "y_one_hot = tf.one_hot(y, nb_classes)\n",
        "y_one_hot = tf.reshape(y_one_hot, [-1, nb_classes])\n",
        " \n",
        "w1 = tf.get_variable(\"w1.\", shape=[784, 256], initializer=tf.contrib.layers.xavier_initializer())\n",
        "b1 = tf.Variable(tf.random_normal([256]))\n",
        "layer1=tf.nn.relu(tf.matmul(x, w1)+b1)\n",
        "layer1=tf.nn.dropout(layer1,keep_prob=keep_prob)\n",
        "\n",
        "w2 = tf.get_variable(\"w2.\", shape=[256, 256], initializer=tf.contrib.layers.xavier_initializer())\n",
        "b2 = tf.Variable(tf.random_normal([256]))\n",
        "layer2=tf.nn.relu(tf.matmul(layer1, w2)+b2)\n",
        "layer2=tf.nn.dropout(layer2,keep_prob=keep_prob)\n",
        "\n",
        "w3 = tf.get_variable(\"w3.\", shape=[256, 256], initializer=tf.contrib.layers.xavier_initializer())\n",
        "b3 = tf.Variable(tf.random_normal([256]))\n",
        "layer3=tf.nn.relu(tf.matmul(layer2, w3)+b3)\n",
        "layer3=tf.nn.dropout(layer3,keep_prob=keep_prob)\n",
        "\n",
        "w4 = tf.get_variable(\"w4.\", shape=[256, nb_classes], initializer=tf.contrib.layers.xavier_initializer())\n",
        "b4 = tf.Variable(tf.random_normal([nb_classes]))\n",
        "\n",
        "# Hypothesis (using softmax)\n",
        "logits = tf.matmul(layer3,w4)+b4\n",
        "hypothesis = tf.nn.softmax(logits)\n",
        " \n",
        "cost_i=tf.nn.softmax_cross_entropy_with_logits(logits=logits, labels=y_one_hot)\n",
        "cost=tf.reduce_mean(cost_i)\n",
        " \n",
        "train = tf.train.GradientDescentOptimizer(learning_rate=1e-4).minimize(cost)\n",
        " \n",
        "# Test model\n",
        "is_correct = tf.equal(tf.argmax(hypothesis, 1), tf.argmax(y_one_hot, 1))\n",
        "# Calculate accuracy\n",
        "accuracy = tf.reduce_mean(tf.cast(is_correct, tf.float32))\n",
        " \n",
        "with tf.Session() as sess:\n",
        "  # parameters\n",
        "  num_epochs = 30\n",
        "  batch_size = 200\n",
        "  num_iterations = int(len(x_data)/ batch_size)\n",
        "  \n",
        "  # Initialize TensorFlow variables\n",
        "  sess.run(tf.global_variables_initializer())\n",
        "  # Training cycle\n",
        "  for epoch in range(num_epochs):\n",
        "    avg_cost = 0\n",
        "    for i in range(num_iterations):\n",
        "      srt = i*batch_size\n",
        "      x_batch = x_data[srt:srt+batch_size]\n",
        "      y_batch = y_data[srt:srt+batch_size]\n",
        "      _, cost_val = sess.run([train, cost], feed_dict={x: x_batch, y:y_batch.reshape(len(y_batch),1),keep_prob:0.7})\n",
        "      avg_cost += cost_val / num_iterations\n",
        "\n",
        "    print(\"Epoch: {:04d}, Cost: {:.9f}\".format(epoch + 1, avg_cost))\n",
        "    \n",
        "  print(\"Learning finished\")\n",
        " \n",
        "  # Test the model using test sets\n",
        "  print(\n",
        "      \"Accuracy: \",\n",
        "      accuracy.eval(\n",
        "          session=sess, feed_dict={x: test_x, y: test_y.reshape(len(test_y),1), keep_prob:1}\n",
        "      ),\n",
        "  )\n",
        " \n",
        "  # Get one and predict\n",
        "  for step in range(10):\n",
        "    r = random.randint(0, len(test_x) - 1)\n",
        "    print(\n",
        "      r, \"Prediction: \",\n",
        "      sess.run(tf.argmax(hypothesis, 1), feed_dict={x: test_x[r : r + 1], keep_prob:1}),\n",
        "    )\n",
        " \n",
        "    plt.imshow(\n",
        "      test_x[r : r + 1].reshape(28, 28),\n",
        "      cmap=\"Greys\",\n",
        "      interpolation=\"nearest\",\n",
        "    )\n",
        "    \n",
        "    plt.show()"
      ],
      "execution_count": 6,
      "outputs": [
        {
          "output_type": "stream",
          "text": [
            "Epoch: 0001, Cost: 34.224610937\n",
            "Epoch: 0002, Cost: 12.259848349\n",
            "Epoch: 0003, Cost: 8.241076742\n",
            "Epoch: 0004, Cost: 6.250148095\n",
            "Epoch: 0005, Cost: 5.016782318\n",
            "Epoch: 0006, Cost: 4.383933033\n",
            "Epoch: 0007, Cost: 3.732613071\n",
            "Epoch: 0008, Cost: 3.341257176\n",
            "Epoch: 0009, Cost: 3.015890049\n",
            "Epoch: 0010, Cost: 2.777236748\n",
            "Epoch: 0011, Cost: 2.551671085\n",
            "Epoch: 0012, Cost: 2.373442434\n",
            "Epoch: 0013, Cost: 2.231251403\n",
            "Epoch: 0014, Cost: 2.096182188\n",
            "Epoch: 0015, Cost: 2.008935584\n",
            "Epoch: 0016, Cost: 1.916671035\n",
            "Epoch: 0017, Cost: 1.850795805\n",
            "Epoch: 0018, Cost: 1.775224380\n",
            "Epoch: 0019, Cost: 1.724126644\n",
            "Epoch: 0020, Cost: 1.677885845\n",
            "Epoch: 0021, Cost: 1.602647308\n",
            "Epoch: 0022, Cost: 1.569521253\n",
            "Epoch: 0023, Cost: 1.534870049\n",
            "Epoch: 0024, Cost: 1.484215389\n",
            "Epoch: 0025, Cost: 1.439350316\n",
            "Epoch: 0026, Cost: 1.408751098\n",
            "Epoch: 0027, Cost: 1.390948712\n",
            "Epoch: 0028, Cost: 1.356844683\n",
            "Epoch: 0029, Cost: 1.327559108\n",
            "Epoch: 0030, Cost: 1.309541909\n",
            "Learning finished\n",
            "Accuracy:  0.8582\n",
            "3042 Prediction:  [4]\n"
          ],
          "name": "stdout"
        },
        {
          "output_type": "display_data",
          "data": {
            "image/png": "[encoded data removed]",
            "text/plain": [
              "<Figure size 432x288 with 1 Axes>"
            ]
          },
          "metadata": {
            "tags": [],
            "needs_background": "light"
          }
        },
        {
          "output_type": "stream",
          "text": [
            "2615 Prediction:  [4]\n"
          ],
          "name": "stdout"
        },
        {
          "output_type": "display_data",
          "data": {
            "image/png": "[encoded data removed]",
            "text/plain": [
              "<Figure size 432x288 with 1 Axes>"
            ]
          },
          "metadata": {
            "tags": [],
            "needs_background": "light"
          }
        },
        {
          "output_type": "stream",
          "text": [
            "9055 Prediction:  [8]\n"
          ],
          "name": "stdout"
        },
        {
          "output_type": "display_data",
          "data": {
            "image/png": "[encoded data removed]",
            "text/plain": [
              "<Figure size 432x288 with 1 Axes>"
            ]
          },
          "metadata": {
            "tags": [],
            "needs_background": "light"
          }
        },
        {
          "output_type": "stream",
          "text": [
            "3921 Prediction:  [2]\n"
          ],
          "name": "stdout"
        },
        {
          "output_type": "display_data",
          "data": {
            "image/png": "[encoded data removed]",
            "text/plain": [
              "<Figure size 432x288 with 1 Axes>"
            ]
          },
          "metadata": {
            "tags": [],
            "needs_background": "light"
          }
        },
        {
          "output_type": "stream",
          "text": [
            "5117 Prediction:  [6]\n"
          ],
          "name": "stdout"
        },
        {
          "output_type": "display_data",
          "data": {
            "image/png": "[encoded data removed]",
            "text/plain": [
              "<Figure size 432x288 with 1 Axes>"
            ]
          },
          "metadata": {
            "tags": [],
            "needs_background": "light"
          }
        },
        {
          "output_type": "stream",
          "text": [
            "2144 Prediction:  [6]\n"
          ],
          "name": "stdout"
        },
        {
          "output_type": "display_data",
          "data": {
            "image/png": "[encoded data removed]",
            "text/plain": [
              "<Figure size 432x288 with 1 Axes>"
            ]
          },
          "metadata": {
            "tags": [],
            "needs_background": "light"
          }
        },
        {
          "output_type": "stream",
          "text": [
            "1110 Prediction:  [7]\n"
          ],
          "name": "stdout"
        },
        {
          "output_type": "display_data",
          "data": {
            "image/png": "[encoded data removed]",
            "text/plain": [
              "<Figure size 432x288 with 1 Axes>"
            ]
          },
          "metadata": {
            "tags": [],
            "needs_background": "light"
          }
        },
        {
          "output_type": "stream",
          "text": [
            "91 Prediction:  [6]\n"
          ],
          "name": "stdout"
        },
        {
          "output_type": "display_data",
          "data": {
            "image/png": "[encoded data removed]",
            "text/plain": [
              "<Figure size 432x288 with 1 Axes>"
            ]
          },
          "metadata": {
            "tags": [],
            "needs_background": "light"
          }
        },
        {
          "output_type": "stream",
          "text": [
            "9302 Prediction:  [7]\n"
          ],
          "name": "stdout"
        },
        {
          "output_type": "display_data",
          "data": {
            "image/png": "[encoded data removed]",
            "text/plain": [
              "<Figure size 432x288 with 1 Axes>"
            ]
          },
          "metadata": {
            "tags": [],
            "needs_background": "light"
          }
        },
        {
          "output_type": "stream",
          "text": [
            "1510 Prediction:  [8]\n"
          ],
          "name": "stdout"
        },
        {
          "output_type": "display_data",
          "data": {
            "image/png": "[encoded data removed]",
            "text/plain": [
              "<Figure size 432x288 with 1 Axes>"
            ]
          },
          "metadata": {
            "tags": [],
            "needs_background": "light"
          }
        }
      ]
    },
    {
      "cell_type": "code",
      "metadata": {
        "id": "1hhY4TtXMMcR",
        "colab": {
          "base_uri": "https://localhost:8080/",
          "height": 1000
        },
        "outputId": "2629ae21-6b1c-4a71-b6bb-e573d617dd6e"
      },
      "source": [
        "#input layer와 output layer의 개수를 이용한 initialization\r\n",
        "#drop-out\r\n",
        "\r\n",
        "nb_classes = 10\r\n",
        " \r\n",
        "# MNIST data image of shape 28 * 28 = 784\r\n",
        "x = tf.placeholder(tf.float32, [None, 784])\r\n",
        "# 0 - 9 digits recognition = 10 classes\r\n",
        "y = tf.placeholder(tf.int32, [None, 1])\r\n",
        "\r\n",
        "keep_prob=tf.placeholder(tf.float32)\r\n",
        "\r\n",
        "y_one_hot = tf.one_hot(y, nb_classes)\r\n",
        "y_one_hot = tf.reshape(y_one_hot, [-1, nb_classes])\r\n",
        " \r\n",
        "w1 = tf.get_variable(\"w1..\", shape=[784, 512], initializer=tf.contrib.layers.xavier_initializer())\r\n",
        "b1 = tf.Variable(tf.random_normal([512]))\r\n",
        "layer1=tf.nn.relu(tf.matmul(x, w1)+b1)\r\n",
        "layer1=tf.nn.dropout(layer1,keep_prob=keep_prob)\r\n",
        "\r\n",
        "w2 = tf.get_variable(\"w2..\", shape=[512, 512], initializer=tf.contrib.layers.xavier_initializer())\r\n",
        "b2 = tf.Variable(tf.random_normal([512]))\r\n",
        "layer2=tf.nn.relu(tf.matmul(layer1, w2)+b2)\r\n",
        "layer2=tf.nn.dropout(layer2,keep_prob=keep_prob)\r\n",
        "\r\n",
        "w3 = tf.get_variable(\"w3..\", shape=[512, 512], initializer=tf.contrib.layers.xavier_initializer())\r\n",
        "b3 = tf.Variable(tf.random_normal([512]))\r\n",
        "layer3=tf.nn.relu(tf.matmul(layer2, w3)+b3)\r\n",
        "layer3=tf.nn.dropout(layer3,keep_prob=keep_prob)\r\n",
        "\r\n",
        "w4 = tf.get_variable(\"w4..\", shape=[512, nb_classes], initializer=tf.contrib.layers.xavier_initializer())\r\n",
        "b4 = tf.Variable(tf.random_normal([nb_classes]))\r\n",
        "\r\n",
        "# Hypothesis (using softmax)\r\n",
        "logits = tf.matmul(layer3,w4)+b4\r\n",
        "hypothesis = tf.nn.softmax(logits)\r\n",
        " \r\n",
        "cost_i=tf.nn.softmax_cross_entropy_with_logits(logits=logits, labels=y_one_hot)\r\n",
        "cost=tf.reduce_mean(cost_i)\r\n",
        " \r\n",
        "train = tf.train.GradientDescentOptimizer(learning_rate=1e-4).minimize(cost)\r\n",
        " \r\n",
        "# Test model\r\n",
        "is_correct = tf.equal(tf.argmax(hypothesis, 1), tf.argmax(y_one_hot, 1))\r\n",
        "# Calculate accuracy\r\n",
        "accuracy = tf.reduce_mean(tf.cast(is_correct, tf.float32))\r\n",
        " \r\n",
        "with tf.Session() as sess:\r\n",
        "  # parameters\r\n",
        "  num_epochs = 30\r\n",
        "  batch_size = 200\r\n",
        "  num_iterations = int(len(x_data)/ batch_size)\r\n",
        "  \r\n",
        "  # Initialize TensorFlow variables\r\n",
        "  sess.run(tf.global_variables_initializer())\r\n",
        "  # Training cycle\r\n",
        "  for epoch in range(num_epochs):\r\n",
        "    avg_cost = 0\r\n",
        "    for i in range(num_iterations):\r\n",
        "      srt = i*batch_size\r\n",
        "      x_batch = x_data[srt:srt+batch_size]\r\n",
        "      y_batch = y_data[srt:srt+batch_size]\r\n",
        "      _, cost_val = sess.run([train, cost], feed_dict={x: x_batch, y:y_batch.reshape(len(y_batch),1),keep_prob:0.7})\r\n",
        "      avg_cost += cost_val / num_iterations\r\n",
        "\r\n",
        "    print(\"Epoch: {:04d}, Cost: {:.9f}\".format(epoch + 1, avg_cost))\r\n",
        "    \r\n",
        "  print(\"Learning finished\")\r\n",
        " \r\n",
        "  # Test the model using test sets\r\n",
        "  print(\r\n",
        "      \"Accuracy: \",\r\n",
        "      accuracy.eval(\r\n",
        "          session=sess, feed_dict={x: test_x, y: test_y.reshape(len(test_y),1), keep_prob:1}\r\n",
        "      ),\r\n",
        "  )\r\n",
        " \r\n",
        "  # Get one and predict\r\n",
        "  for step in range(10):\r\n",
        "    r = random.randint(0, len(test_x) - 1)\r\n",
        "    print(\r\n",
        "      r, \"Prediction: \",\r\n",
        "      sess.run(tf.argmax(hypothesis, 1), feed_dict={x: test_x[r : r + 1], keep_prob:1}),\r\n",
        "    )\r\n",
        " \r\n",
        "    plt.imshow(\r\n",
        "      test_x[r : r + 1].reshape(28, 28),\r\n",
        "      cmap=\"Greys\",\r\n",
        "      interpolation=\"nearest\",\r\n",
        "    )\r\n",
        "    \r\n",
        "    plt.show()"
      ],
      "execution_count": 7,
      "outputs": [
        {
          "output_type": "stream",
          "text": [
            "Epoch: 0001, Cost: 28.056939675\n",
            "Epoch: 0002, Cost: 10.825850500\n",
            "Epoch: 0003, Cost: 7.589821048\n",
            "Epoch: 0004, Cost: 6.138351763\n",
            "Epoch: 0005, Cost: 5.080893679\n",
            "Epoch: 0006, Cost: 4.497587889\n",
            "Epoch: 0007, Cost: 4.038128990\n",
            "Epoch: 0008, Cost: 3.653813473\n",
            "Epoch: 0009, Cost: 3.323878463\n",
            "Epoch: 0010, Cost: 3.040354025\n",
            "Epoch: 0011, Cost: 2.878904098\n",
            "Epoch: 0012, Cost: 2.655342283\n",
            "Epoch: 0013, Cost: 2.511024728\n",
            "Epoch: 0014, Cost: 2.310763339\n",
            "Epoch: 0015, Cost: 2.238867797\n",
            "Epoch: 0016, Cost: 2.158921841\n",
            "Epoch: 0017, Cost: 2.048098045\n",
            "Epoch: 0018, Cost: 1.969099981\n",
            "Epoch: 0019, Cost: 1.834805048\n",
            "Epoch: 0020, Cost: 1.790673816\n",
            "Epoch: 0021, Cost: 1.748257355\n",
            "Epoch: 0022, Cost: 1.636080071\n",
            "Epoch: 0023, Cost: 1.661648421\n",
            "Epoch: 0024, Cost: 1.536338814\n",
            "Epoch: 0025, Cost: 1.515719255\n",
            "Epoch: 0026, Cost: 1.485399719\n",
            "Epoch: 0027, Cost: 1.414675304\n",
            "Epoch: 0028, Cost: 1.393207535\n",
            "Epoch: 0029, Cost: 1.351519404\n",
            "Epoch: 0030, Cost: 1.328749616\n",
            "Learning finished\n",
            "Accuracy:  0.9199\n",
            "4259 Prediction:  [9]\n"
          ],
          "name": "stdout"
        },
        {
          "output_type": "display_data",
          "data": {
            "image/png": "[encoded data removed]",
            "text/plain": [
              "<Figure size 432x288 with 1 Axes>"
            ]
          },
          "metadata": {
            "tags": [],
            "needs_background": "light"
          }
        },
        {
          "output_type": "stream",
          "text": [
            "4188 Prediction:  [0]\n"
          ],
          "name": "stdout"
        },
        {
          "output_type": "display_data",
          "data": {
            "image/png": "[encoded data removed]",
            "text/plain": [
              "<Figure size 432x288 with 1 Axes>"
            ]
          },
          "metadata": {
            "tags": [],
            "needs_background": "light"
          }
        },
        {
          "output_type": "stream",
          "text": [
            "3536 Prediction:  [0]\n"
          ],
          "name": "stdout"
        },
        {
          "output_type": "display_data",
          "data": {
            "image/png": "[encoded data removed]",
            "text/plain": [
              "<Figure size 432x288 with 1 Axes>"
            ]
          },
          "metadata": {
            "tags": [],
            "needs_background": "light"
          }
        },
        {
          "output_type": "stream",
          "text": [
            "828 Prediction:  [2]\n"
          ],
          "name": "stdout"
        },
        {
          "output_type": "display_data",
          "data": {
            "image/png": "[encoded data removed]",
            "text/plain": [
              "<Figure size 432x288 with 1 Axes>"
            ]
          },
          "metadata": {
            "tags": [],
            "needs_background": "light"
          }
        },
        {
          "output_type": "stream",
          "text": [
            "4041 Prediction:  [3]\n"
          ],
          "name": "stdout"
        },
        {
          "output_type": "display_data",
          "data": {
            "image/png": "[encoded data removed]",
            "text/plain": [
              "<Figure size 432x288 with 1 Axes>"
            ]
          },
          "metadata": {
            "tags": [],
            "needs_background": "light"
          }
        },
        {
          "output_type": "stream",
          "text": [
            "8103 Prediction:  [6]\n"
          ],
          "name": "stdout"
        },
        {
          "output_type": "display_data",
          "data": {
            "image/png": "[encoded data removed]",
            "text/plain": [
              "<Figure size 432x288 with 1 Axes>"
            ]
          },
          "metadata": {
            "tags": [],
            "needs_background": "light"
          }
        },
        {
          "output_type": "stream",
          "text": [
            "9344 Prediction:  [4]\n"
          ],
          "name": "stdout"
        },
        {
          "output_type": "display_data",
          "data": {
            "image/png": "[encoded data removed]",
            "text/plain": [
              "<Figure size 432x288 with 1 Axes>"
            ]
          },
          "metadata": {
            "tags": [],
            "needs_background": "light"
          }
        },
        {
          "output_type": "stream",
          "text": [
            "3838 Prediction:  [1]\n"
          ],
          "name": "stdout"
        },
        {
          "output_type": "display_data",
          "data": {
            "image/png": "[encoded data removed]",
            "text/plain": [
              "<Figure size 432x288 with 1 Axes>"
            ]
          },
          "metadata": {
            "tags": [],
            "needs_background": "light"
          }
        },
        {
          "output_type": "stream",
          "text": [
            "8643 Prediction:  [5]\n"
          ],
          "name": "stdout"
        },
        {
          "output_type": "display_data",
          "data": {
            "image/png": "[encoded data removed]",
            "text/plain": [
              "<Figure size 432x288 with 1 Axes>"
            ]
          },
          "metadata": {
            "tags": [],
            "needs_background": "light"
          }
        },
        {
          "output_type": "stream",
          "text": [
            "9152 Prediction:  [4]\n"
          ],
          "name": "stdout"
        },
        {
          "output_type": "display_data",
          "data": {
            "image/png": "[encoded data removed]",
            "text/plain": [
              "<Figure size 432x288 with 1 Axes>"
            ]
          },
          "metadata": {
            "tags": [],
            "needs_background": "light"
          }
        }
      ]
    },
    {
      "cell_type": "code",
      "metadata": {
        "id": "qfXGlz4gbmHn"
      },
      "source": [
        ""
      ],
      "execution_count": null,
      "outputs": []
    }
  ]
}