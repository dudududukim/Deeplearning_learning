{
  "nbformat": 4,
  "nbformat_minor": 0,
  "metadata": {
    "colab": {
      "name": "CNN introduction.ipynb",
      "provenance": [],
      "mount_file_id": "1eBLoFEzWKNQkFiJ0439QeVyAPz-mL7lU",
      "authorship_tag": "ABX9TyNXEJe/BiLabtpaALmOPIR1",
      "include_colab_link": true
    },
    "kernelspec": {
      "name": "python3",
      "display_name": "Python 3"
    }
  },
  "cells": [
    {
      "cell_type": "markdown",
      "metadata": {
        "id": "view-in-github",
        "colab_type": "text"
      },
      "source": [
        "<a href=\"https://colab.research.google.com/github/dudududukim/Deeplearning_learning/blob/MNIST/CNN_introduction.ipynb\" target=\"_parent\"><img src=\"https://colab.research.google.com/assets/colab-badge.svg\" alt=\"Open In Colab\"/></a>"
      ]
    },
    {
      "cell_type": "code",
      "metadata": {
        "colab": {
          "base_uri": "https://localhost:8080/"
        },
        "id": "a2M7sbI-h3Je",
        "outputId": "74992ecf-a4d7-4f47-9664-f87020d0049a"
      },
      "source": [
        "!pip uninstall tensorflow"
      ],
      "execution_count": 1,
      "outputs": [
        {
          "output_type": "stream",
          "text": [
            "Uninstalling tensorflow-2.4.1:\n",
            "  Would remove:\n",
            "    /usr/local/bin/estimator_ckpt_converter\n",
            "    /usr/local/bin/import_pb_to_tensorboard\n",
            "    /usr/local/bin/saved_model_cli\n",
            "    /usr/local/bin/tensorboard\n",
            "    /usr/local/bin/tf_upgrade_v2\n",
            "    /usr/local/bin/tflite_convert\n",
            "    /usr/local/bin/toco\n",
            "    /usr/local/bin/toco_from_protos\n",
            "    /usr/local/lib/python3.6/dist-packages/tensorflow-2.4.1.dist-info/*\n",
            "    /usr/local/lib/python3.6/dist-packages/tensorflow/*\n",
            "Proceed (y/n)? y\n",
            "y\n",
            "  Successfully uninstalled tensorflow-2.4.1\n"
          ],
          "name": "stdout"
        }
      ]
    },
    {
      "cell_type": "code",
      "metadata": {
        "colab": {
          "base_uri": "https://localhost:8080/"
        },
        "id": "JWTjammnSi2D",
        "outputId": "f8c0c945-e059-4ccb-bc07-7dfb733f9ae9"
      },
      "source": [
        "pip install tensorflow==1.4.0"
      ],
      "execution_count": 1,
      "outputs": [
        {
          "output_type": "stream",
          "text": [
            "Requirement already satisfied: tensorflow==1.4.0 in /usr/local/lib/python3.6/dist-packages (1.4.0)\n",
            "Requirement already satisfied: wheel>=0.26 in /usr/local/lib/python3.6/dist-packages (from tensorflow==1.4.0) (0.36.2)\n",
            "Requirement already satisfied: six>=1.10.0 in /usr/local/lib/python3.6/dist-packages (from tensorflow==1.4.0) (1.15.0)\n",
            "Requirement already satisfied: protobuf>=3.3.0 in /usr/local/lib/python3.6/dist-packages (from tensorflow==1.4.0) (3.12.4)\n",
            "Requirement already satisfied: enum34>=1.1.6 in /usr/local/lib/python3.6/dist-packages (from tensorflow==1.4.0) (1.1.10)\n",
            "Requirement already satisfied: numpy>=1.12.1 in /usr/local/lib/python3.6/dist-packages (from tensorflow==1.4.0) (1.19.5)\n",
            "Requirement already satisfied: tensorflow-tensorboard<0.5.0,>=0.4.0rc1 in /usr/local/lib/python3.6/dist-packages (from tensorflow==1.4.0) (0.4.0)\n",
            "Requirement already satisfied: setuptools in /usr/local/lib/python3.6/dist-packages (from protobuf>=3.3.0->tensorflow==1.4.0) (53.0.0)\n",
            "Requirement already satisfied: markdown>=2.6.8 in /usr/local/lib/python3.6/dist-packages (from tensorflow-tensorboard<0.5.0,>=0.4.0rc1->tensorflow==1.4.0) (3.3.3)\n",
            "Requirement already satisfied: bleach==1.5.0 in /usr/local/lib/python3.6/dist-packages (from tensorflow-tensorboard<0.5.0,>=0.4.0rc1->tensorflow==1.4.0) (1.5.0)\n",
            "Requirement already satisfied: html5lib==0.9999999 in /usr/local/lib/python3.6/dist-packages (from tensorflow-tensorboard<0.5.0,>=0.4.0rc1->tensorflow==1.4.0) (0.9999999)\n",
            "Requirement already satisfied: werkzeug>=0.11.10 in /usr/local/lib/python3.6/dist-packages (from tensorflow-tensorboard<0.5.0,>=0.4.0rc1->tensorflow==1.4.0) (1.0.1)\n",
            "Requirement already satisfied: importlib-metadata; python_version < \"3.8\" in /usr/local/lib/python3.6/dist-packages (from markdown>=2.6.8->tensorflow-tensorboard<0.5.0,>=0.4.0rc1->tensorflow==1.4.0) (3.4.0)\n",
            "Requirement already satisfied: typing-extensions>=3.6.4; python_version < \"3.8\" in /usr/local/lib/python3.6/dist-packages (from importlib-metadata; python_version < \"3.8\"->markdown>=2.6.8->tensorflow-tensorboard<0.5.0,>=0.4.0rc1->tensorflow==1.4.0) (3.7.4.3)\n",
            "Requirement already satisfied: zipp>=0.5 in /usr/local/lib/python3.6/dist-packages (from importlib-metadata; python_version < \"3.8\"->markdown>=2.6.8->tensorflow-tensorboard<0.5.0,>=0.4.0rc1->tensorflow==1.4.0) (3.4.0)\n"
          ],
          "name": "stdout"
        }
      ]
    },
    {
      "cell_type": "code",
      "metadata": {
        "colab": {
          "base_uri": "https://localhost:8080/"
        },
        "id": "R0OQPuoxStqS",
        "outputId": "0c78fe09-965b-44a7-9971-641ff1017e95"
      },
      "source": [
        "  import numpy as np\n",
        "import tensorflow as tf\n",
        "import matplotlib.pyplot as plt"
      ],
      "execution_count": 2,
      "outputs": [
        {
          "output_type": "stream",
          "text": [
            "/usr/local/lib/python3.6/dist-packages/tensorflow/python/framework/dtypes.py:469: FutureWarning: Passing (type, 1) or '1type' as a synonym of type is deprecated; in a future version of numpy, it will be understood as (type, (1,)) / '(1,)type'.\n",
            "  _np_qint8 = np.dtype([(\"qint8\", np.int8, 1)])\n",
            "/usr/local/lib/python3.6/dist-packages/tensorflow/python/framework/dtypes.py:470: FutureWarning: Passing (type, 1) or '1type' as a synonym of type is deprecated; in a future version of numpy, it will be understood as (type, (1,)) / '(1,)type'.\n",
            "  _np_quint8 = np.dtype([(\"quint8\", np.uint8, 1)])\n",
            "/usr/local/lib/python3.6/dist-packages/tensorflow/python/framework/dtypes.py:471: FutureWarning: Passing (type, 1) or '1type' as a synonym of type is deprecated; in a future version of numpy, it will be understood as (type, (1,)) / '(1,)type'.\n",
            "  _np_qint16 = np.dtype([(\"qint16\", np.int16, 1)])\n",
            "/usr/local/lib/python3.6/dist-packages/tensorflow/python/framework/dtypes.py:472: FutureWarning: Passing (type, 1) or '1type' as a synonym of type is deprecated; in a future version of numpy, it will be understood as (type, (1,)) / '(1,)type'.\n",
            "  _np_quint16 = np.dtype([(\"quint16\", np.uint16, 1)])\n",
            "/usr/local/lib/python3.6/dist-packages/tensorflow/python/framework/dtypes.py:473: FutureWarning: Passing (type, 1) or '1type' as a synonym of type is deprecated; in a future version of numpy, it will be understood as (type, (1,)) / '(1,)type'.\n",
            "  _np_qint32 = np.dtype([(\"qint32\", np.int32, 1)])\n",
            "/usr/local/lib/python3.6/dist-packages/tensorflow/python/framework/dtypes.py:476: FutureWarning: Passing (type, 1) or '1type' as a synonym of type is deprecated; in a future version of numpy, it will be understood as (type, (1,)) / '(1,)type'.\n",
            "  np_resource = np.dtype([(\"resource\", np.ubyte, 1)])\n",
            "/usr/lib/python3.6/importlib/_bootstrap.py:219: RuntimeWarning: compiletime version 3.5 of module 'tensorflow.python.framework.fast_tensor_util' does not match runtime version 3.6\n",
            "  return f(*args, **kwds)\n"
          ],
          "name": "stderr"
        }
      ]
    },
    {
      "cell_type": "code",
      "metadata": {
        "colab": {
          "base_uri": "https://localhost:8080/"
        },
        "id": "q_XQB1WAkDi3",
        "outputId": "f3bb8092-ceb0-4928-f767-cda81b0e7559"
      },
      "source": [
        "#epoch와 batch를 이용\n",
        " \n",
        "import numpy as np\n",
        "import tensorflow as tf\n",
        "import matplotlib.pyplot as plt\n",
        "import random\n",
        " \n",
        "tf.set_random_seed(777)  # for reproducibility\n",
        " \n",
        "'''\n",
        "from tensorflow.examples.tutorials.mnist import input_data\n",
        " \n",
        "# Check out https://www.tensorflow.org/get_started/mnist/beginners for\n",
        "# more information about the mnist dataset\n",
        "mnist = input_data.read_data_sets(\"MNIST_data/\", one_hot=True)\n",
        " \n",
        "nb_classes = 10\n",
        "'''\n",
        "#file input from google drive\n",
        "xy=np.loadtxt('/content/drive/MyDrive/tensorflow/mnist/train.csv',delimiter=',',dtype=np.float32)\n",
        "x_data = xy[:,1:]\n",
        "y_data = xy[:,0]\n",
        " \n",
        "xy_test=np.loadtxt('/content/drive/MyDrive/tensorflow/mnist/mnist_test.csv',delimiter=',',dtype=np.float32)\n",
        "test_x = xy_test[:,1:]\n",
        "test_y = xy_test[:,0]\n",
        " \n",
        "'''\n",
        "filename_queue = tf.train.string_input_producer(\n",
        "    ['/content/drive/MyDrive/tensorflow/mnist/train.csv'], shuffle=False, name='filename_queue')\n",
        " \n",
        "reader=tf.TextLineReader()\n",
        "key, value = reader.read(filename_queue)\n",
        " \n",
        "record_defaults=[[0.]]*785\n",
        "xy=tf.decode_csv(value, record_defaults=record_defaults)\n",
        " \n",
        "train_x, train_y =(tf.train.batch([xy[1:], xy[:1]],batch_size=1000))\n",
        "test_x, test_y =(tf.train.batch([xy[1:], xy[:1]],batch_size=100))\n",
        "'''\n",
        " \n",
        "print('Data loaded!!')"
      ],
      "execution_count": 13,
      "outputs": [
        {
          "output_type": "stream",
          "text": [
            "Data loaded!!\n"
          ],
          "name": "stdout"
        }
      ]
    },
    {
      "cell_type": "code",
      "metadata": {
        "colab": {
          "base_uri": "https://localhost:8080/",
          "height": 307
        },
        "id": "KUYONcKrWSVv",
        "outputId": "d1a5b3e1-fa52-4106-e4c1-18faf34ed6e2"
      },
      "source": [
        "sess = tf.InteractiveSession()\n",
        "image = np.array([[[[1],[2],[3]],\n",
        "                   [[4],[5],[6]], \n",
        "                   [[7],[8],[9]]]], dtype=np.float32)\n",
        "print(image.shape)\n",
        "plt.imshow(image.reshape(3,3), cmap='Greys')"
      ],
      "execution_count": 3,
      "outputs": [
        {
          "output_type": "stream",
          "text": [
            "(1, 3, 3, 1)\n"
          ],
          "name": "stdout"
        },
        {
          "output_type": "execute_result",
          "data": {
            "text/plain": [
              "<matplotlib.image.AxesImage at 0x7fcaa994d358>"
            ]
          },
          "metadata": {
            "tags": []
          },
          "execution_count": 3
        },
        {
          "output_type": "display_data",
          "data": {
            "image/png": "[encoded data removed]",
            "text/plain": [
              "<Figure size 432x288 with 1 Axes>"
            ]
          },
          "metadata": {
            "tags": [],
            "needs_background": "light"
          }
        }
      ]
    },
    {
      "cell_type": "code",
      "metadata": {
        "id": "VQMtkQAJWVVD"
      },
      "source": [
        "w=np.array([[[1.],[1.]],\n",
        "            [[1.],[1.]]], dtype=np.float32)"
      ],
      "execution_count": 4,
      "outputs": []
    },
    {
      "cell_type": "markdown",
      "metadata": {
        "id": "54n2cDGcXwSR"
      },
      "source": [
        "1. tf.nn.conv2d: \n",
        "https://www.tensorflow.org/api_docs/python/tf/nn/conv2d\n",
        "\n",
        "\n",
        "2. np.swapaxes: https://supermemi.tistory.com/15\n",
        "\n",
        "3. "
      ]
    },
    {
      "cell_type": "code",
      "metadata": {
        "colab": {
          "base_uri": "https://localhost:8080/",
          "height": 413
        },
        "id": "VnTQrT5vWkfG",
        "outputId": "d4a28112-feac-4a6e-f31d-2edbe34d1965"
      },
      "source": [
        "print(\"image.shape\", image.shape)\n",
        "weight = tf.constant([[[[1.]],[[1.]]],\n",
        "                      [[[1.]],[[1.]]]])\n",
        "print(\"weight.shape\", weight.shape)\n",
        "conv2d = tf.nn.conv2d(image, weight, strides=[1, 1, 1, 1], padding='VALID')\n",
        "\n",
        "#tensor인 conv2d를 np array로 바꿔주는 역할\n",
        "conv2d_img = conv2d.eval()\n",
        "print(\"conv2d_img.shape\", conv2d_img.shape)\n",
        "print(\"conv2d_image\\n\", conv2d_img)\n",
        "\n",
        "#사실 1x2x2x1인 array에서 swapaxes는 의미 없는듯?\n",
        "#conv2d_img = np.swapaxes(conv2d_img, 0, 3)\n",
        "#print('conv2d_swap_img\\n', conv2d_img)\n",
        "for i, one_img in enumerate(conv2d_img):\n",
        "    print(one_img.reshape(2,2))\n",
        "    plt.subplot(1,2,i+1), plt.imshow(one_img.reshape(2,2), cmap='gray')"
      ],
      "execution_count": 5,
      "outputs": [
        {
          "output_type": "stream",
          "text": [
            "image.shape (1, 3, 3, 1)\n",
            "weight.shape (2, 2, 1, 1)\n",
            "conv2d_img.shape (1, 2, 2, 1)\n",
            "conv2d_image\n",
            " [[[[12.]\n",
            "   [16.]]\n",
            "\n",
            "  [[24.]\n",
            "   [28.]]]]\n",
            "[[12. 16.]\n",
            " [24. 28.]]\n"
          ],
          "name": "stdout"
        },
        {
          "output_type": "display_data",
          "data": {
            "image/png": "[encoded data removed]",
            "text/plain": [
              "<Figure size 432x288 with 1 Axes>"
            ]
          },
          "metadata": {
            "tags": [],
            "needs_background": "light"
          }
        }
      ]
    },
    {
      "cell_type": "code",
      "metadata": {
        "colab": {
          "base_uri": "https://localhost:8080/",
          "height": 546
        },
        "id": "jQ4mgopiXFg-",
        "outputId": "14ba35a0-ae23-4a83-b8b8-ea8939f539c4"
      },
      "source": [
        "#padding same(same이면 본래 image와 같은크기의 img가 나옴)\n",
        "\n",
        "print(\"image.shape\", image.shape)\n",
        "weight = tf.constant([[[[1.]],[[1.]]],\n",
        "                      [[[1.]],[[1.]]]])\n",
        "print(\"weight.shape\", weight.shape)\n",
        "conv2d = tf.nn.conv2d(image, weight, strides=[1, 1, 1, 1], padding='SAME')\n",
        "\n",
        "#tensor인 conv2d를 np array로 바꿔주는 역할\n",
        "conv2d_img = conv2d.eval()\n",
        "print(\"conv2d_img.shape\", conv2d_img.shape)\n",
        "print(\"conv2d_image\\n\", conv2d_img)\n",
        "\n",
        "#사실 1x2x2x1인 array에서 swapaxes는 의미 없는듯?\n",
        "#conv2d_img = np.swapaxes(conv2d_img, 0, 3)\n",
        "#print('conv2d_swap_img\\n', conv2d_img)\n",
        "for i, one_img in enumerate(conv2d_img):\n",
        "    print(one_img.reshape(3,3))\n",
        "    plt.subplot(1,2,i+1), plt.imshow(one_img.reshape(3,3), cmap='gray')"
      ],
      "execution_count": 6,
      "outputs": [
        {
          "output_type": "stream",
          "text": [
            "image.shape (1, 3, 3, 1)\n",
            "weight.shape (2, 2, 1, 1)\n",
            "conv2d_img.shape (1, 3, 3, 1)\n",
            "conv2d_image\n",
            " [[[[12.]\n",
            "   [16.]\n",
            "   [ 9.]]\n",
            "\n",
            "  [[24.]\n",
            "   [28.]\n",
            "   [15.]]\n",
            "\n",
            "  [[15.]\n",
            "   [17.]\n",
            "   [ 9.]]]]\n",
            "[[12. 16.  9.]\n",
            " [24. 28. 15.]\n",
            " [15. 17.  9.]]\n"
          ],
          "name": "stdout"
        },
        {
          "output_type": "display_data",
          "data": {
            "image/png": "[encoded data removed]",
            "text/plain": [
              "<Figure size 432x288 with 1 Axes>"
            ]
          },
          "metadata": {
            "tags": [],
            "needs_background": "light"
          }
        }
      ]
    },
    {
      "cell_type": "markdown",
      "metadata": {
        "id": "vMV5xTJ0eKhg"
      },
      "source": [
        "3. for i in enumerate(): https://wikidocs.net/16045\n",
        "\n",
        "4. plt.subplot(*args, **kwargs): https://matplotlib.org/3.3.4/api/_as_gen/matplotlib.pyplot.subplot.html"
      ]
    },
    {
      "cell_type": "code",
      "metadata": {
        "colab": {
          "base_uri": "https://localhost:8080/",
          "height": 1000
        },
        "id": "6dXsFpK8cLWS",
        "outputId": "59256c36-5d72-40fb-9b3b-42c35a671996"
      },
      "source": [
        "#padding same(same이면 본래 image와 같은크기의 img가 나옴)\n",
        "#filter의 개수 증가\n",
        "\n",
        "print(\"image.shape\", image.shape)\n",
        "weight = tf.constant([[[[1., 0.5, -1.]],[[1., 0.5, -1.]]],\n",
        "                      [[[1., 0.5, -1.]],[[1., 0.5, -1.]]]])\n",
        "print(\"weight.shape\", weight.shape)\n",
        "conv2d = tf.nn.conv2d(image, weight, strides=[1, 1, 1, 1], padding='SAME')\n",
        "\n",
        "#tensor인 conv2d를 np array로 바꿔주는 역할\n",
        "conv2d_img = conv2d.eval()\n",
        "print(\"conv2d_img.shape\", conv2d_img.shape)\n",
        "print(\"conv2d_image\\n\", conv2d_img)\n",
        "\n",
        "#사실 1x2x2x1인 array에서 swapaxes는 의미 없는듯?\n",
        "#이 아니라 filter가 많아지면 의미있음\n",
        "conv2d_img = np.swapaxes(conv2d_img, 0, 3)\n",
        "print(\"conv2d_image_swap\\n\", conv2d_img)\n",
        "for i, one_img in enumerate(conv2d_img):\n",
        "  print(\"index : {}, value: \\n{}\".format(i,one_img))\n",
        "  print(one_img.reshape(3,3))\n",
        "  plt.subplot(1,3,i+1), plt.imshow(one_img.reshape(3,3), cmap='gray')"
      ],
      "execution_count": 7,
      "outputs": [
        {
          "output_type": "stream",
          "text": [
            "image.shape (1, 3, 3, 1)\n",
            "weight.shape (2, 2, 1, 3)\n",
            "conv2d_img.shape (1, 3, 3, 3)\n",
            "conv2d_image\n",
            " [[[[ 12.    6.  -12. ]\n",
            "   [ 16.    8.  -16. ]\n",
            "   [  9.    4.5  -9. ]]\n",
            "\n",
            "  [[ 24.   12.  -24. ]\n",
            "   [ 28.   14.  -28. ]\n",
            "   [ 15.    7.5 -15. ]]\n",
            "\n",
            "  [[ 15.    7.5 -15. ]\n",
            "   [ 17.    8.5 -17. ]\n",
            "   [  9.    4.5  -9. ]]]]\n",
            "conv2d_image_swap\n",
            " [[[[ 12. ]\n",
            "   [ 16. ]\n",
            "   [  9. ]]\n",
            "\n",
            "  [[ 24. ]\n",
            "   [ 28. ]\n",
            "   [ 15. ]]\n",
            "\n",
            "  [[ 15. ]\n",
            "   [ 17. ]\n",
            "   [  9. ]]]\n",
            "\n",
            "\n",
            " [[[  6. ]\n",
            "   [  8. ]\n",
            "   [  4.5]]\n",
            "\n",
            "  [[ 12. ]\n",
            "   [ 14. ]\n",
            "   [  7.5]]\n",
            "\n",
            "  [[  7.5]\n",
            "   [  8.5]\n",
            "   [  4.5]]]\n",
            "\n",
            "\n",
            " [[[-12. ]\n",
            "   [-16. ]\n",
            "   [ -9. ]]\n",
            "\n",
            "  [[-24. ]\n",
            "   [-28. ]\n",
            "   [-15. ]]\n",
            "\n",
            "  [[-15. ]\n",
            "   [-17. ]\n",
            "   [ -9. ]]]]\n",
            "index : 0, value: \n",
            "[[[12.]\n",
            "  [16.]\n",
            "  [ 9.]]\n",
            "\n",
            " [[24.]\n",
            "  [28.]\n",
            "  [15.]]\n",
            "\n",
            " [[15.]\n",
            "  [17.]\n",
            "  [ 9.]]]\n",
            "[[12. 16.  9.]\n",
            " [24. 28. 15.]\n",
            " [15. 17.  9.]]\n",
            "index : 1, value: \n",
            "[[[ 6. ]\n",
            "  [ 8. ]\n",
            "  [ 4.5]]\n",
            "\n",
            " [[12. ]\n",
            "  [14. ]\n",
            "  [ 7.5]]\n",
            "\n",
            " [[ 7.5]\n",
            "  [ 8.5]\n",
            "  [ 4.5]]]\n",
            "[[ 6.   8.   4.5]\n",
            " [12.  14.   7.5]\n",
            " [ 7.5  8.5  4.5]]\n",
            "index : 2, value: \n",
            "[[[-12.]\n",
            "  [-16.]\n",
            "  [ -9.]]\n",
            "\n",
            " [[-24.]\n",
            "  [-28.]\n",
            "  [-15.]]\n",
            "\n",
            " [[-15.]\n",
            "  [-17.]\n",
            "  [ -9.]]]\n",
            "[[-12. -16.  -9.]\n",
            " [-24. -28. -15.]\n",
            " [-15. -17.  -9.]]\n"
          ],
          "name": "stdout"
        },
        {
          "output_type": "display_data",
          "data": {
            "image/png": "[encoded data removed]",
            "text/plain": [
              "<Figure size 432x288 with 3 Axes>"
            ]
          },
          "metadata": {
            "tags": [],
            "needs_background": "light"
          }
        }
      ]
    },
    {
      "cell_type": "markdown",
      "metadata": {
        "id": "nyiSiaFDjpe1"
      },
      "source": [
        "5. tf.nn.max_pool(input, ksize, strides, padding, data_format=None, name=None) : https://www.tensorflow.org/api_docs/python/tf/nn/max_pool"
      ]
    },
    {
      "cell_type": "code",
      "metadata": {
        "id": "LcJpHCNldmLd",
        "colab": {
          "base_uri": "https://localhost:8080/"
        },
        "outputId": "9b3aa1ae-5da7-46a8-8336-08b34145da9b"
      },
      "source": [
        "image = np.array([[[[4],[3]],\n",
        "                    [[2],[1]]]], dtype=np.float32)\n",
        "pool = tf.nn.max_pool(image, ksize=[1, 2, 2, 1],\n",
        "                    strides=[1, 1, 1, 1], padding='SAME')\n",
        "print(pool.shape)\n",
        "print(pool.eval())"
      ],
      "execution_count": 10,
      "outputs": [
        {
          "output_type": "stream",
          "text": [
            "(1, 2, 2, 1)\n",
            "[[[[4.]\n",
            "   [3.]]\n",
            "\n",
            "  [[2.]\n",
            "   [1.]]]]\n"
          ],
          "name": "stdout"
        }
      ]
    },
    {
      "cell_type": "code",
      "metadata": {
        "id": "LvVr1305kah7"
      },
      "source": [
        "image = x_data[0]\n",
        "print(image.reshape(1,28,28,1))"
      ],
      "execution_count": null,
      "outputs": []
    },
    {
      "cell_type": "code",
      "metadata": {
        "colab": {
          "base_uri": "https://localhost:8080/",
          "height": 1000
        },
        "id": "q8W02b9wije9",
        "outputId": "5f29d214-dabd-4b04-aa46-98e2c1c75574"
      },
      "source": [
        "image=image.reshape(1,28,28,1)\n",
        "print(\"image.shape\", image.shape)\n",
        "weight = tf.constant([[[[1.]],[[1.]]],\n",
        "                      [[[1.]],[[1.]]]])\n",
        "print(\"weight.shape\", weight.shape)\n",
        "conv2d = tf.nn.conv2d(image, weight, strides=[1, 1, 1, 1], padding='SAME')\n",
        "\n",
        "#tensor인 conv2d를 np array로 바꿔주는 역할\n",
        "conv2d_img = conv2d.eval()\n",
        "print(\"conv2d_img.shape\", conv2d_img.shape)\n",
        "#print(\"conv2d_image\\n\", conv2d_img)\n",
        "\n",
        "#사실 1x2x2x1인 array에서 swapaxes는 의미 없는듯?\n",
        "conv2d_img = np.swapaxes(conv2d_img, 0, 3)\n",
        "#print('conv2d_swap_img\\n', conv2d_img)\n",
        "for i, one_img in enumerate(conv2d_img):\n",
        "    print(one_img.reshape(28,28))\n",
        "    plt.subplot(1,2,i+1), plt.imshow(one_img.reshape(28,28), cmap='gray')"
      ],
      "execution_count": 26,
      "outputs": [
        {
          "output_type": "stream",
          "text": [
            "image.shape (1, 28, 28, 1)\n",
            "weight.shape (2, 2, 1, 1)\n",
            "conv2d_img.shape (1, 28, 28, 1)\n",
            "[[   0.    0.    0.    0.    0.    0.    0.    0.    0.    0.    0.    0.\n",
            "     0.    0.    0.    0.    0.    0.    0.    0.    0.    0.    0.    0.\n",
            "     0.    0.    0.    0.]\n",
            " [   0.    0.    0.    0.    0.    0.    0.    0.    0.    0.    0.    0.\n",
            "     0.    0.    0.    0.    0.    0.    0.    0.    0.    0.    0.    0.\n",
            "     0.    0.    0.    0.]\n",
            " [   0.    0.    0.    0.    0.    0.    0.    0.    0.    0.    0.    0.\n",
            "     0.    0.    0.    0.    0.    0.    0.    0.    0.    0.    0.    0.\n",
            "     0.    0.    0.    0.]\n",
            " [   0.    0.    0.    0.    0.    0.    0.    0.    0.    0.    0.    0.\n",
            "     0.    0.    0.    0.    0.    0.    0.  188.  443.  349.   94.    0.\n",
            "     0.    0.    0.    0.]\n",
            " [   0.    0.    0.    0.    0.    0.    0.    0.    0.    0.    0.    0.\n",
            "     0.    0.    0.    0.    0.    0.  191.  629.  946.  695.  187.    0.\n",
            "     0.    0.    0.    0.]\n",
            " [   0.    0.    0.    0.    0.    0.    0.    0.    0.    0.    0.    0.\n",
            "     0.    0.    0.    0.    0.  123.  562.  942.  923.  523.  103.    0.\n",
            "     0.    0.    0.    0.]\n",
            " [   0.    0.    0.    0.    0.    0.    0.    0.    0.    0.    0.    0.\n",
            "     0.    0.    0.    0.   80.  450.  871.  962.  641.  190.   10.    0.\n",
            "     0.    0.    0.    0.]\n",
            " [   0.    0.    0.    0.    0.    0.    0.    0.    0.    0.    0.    0.\n",
            "     0.    0.    0.   29.  316.  787.  988.  773.  298.   13.    0.    0.\n",
            "     0.    0.    0.    0.]\n",
            " [   0.    0.    0.    0.    0.    0.    0.    0.    0.    0.    0.    0.\n",
            "     0.    0.   54.  292.  698.  966.  829.  400.   77.    0.    0.    0.\n",
            "     0.    0.    0.    0.]\n",
            " [   0.    0.    0.    0.    0.    0.    0.    0.    0.    0.    0.    0.\n",
            "     0.   93.  401.  770.  953.  914.  528.  105.    0.    0.    0.    0.\n",
            "     0.    0.    0.    0.]\n",
            " [   0.    0.    0.    0.    0.    0.    0.    0.    0.    0.    0.    0.\n",
            "    23.  326.  811. 1014.  903.  567.  187.   17.    0.    0.    0.    0.\n",
            "     0.    0.    0.    0.]\n",
            " [   0.    0.    0.    0.    0.    0.    0.    0.    0.    0.    0.   16.\n",
            "   248.  695.  971. 1001.  733.  240.    0.    0.    0.    0.    0.    0.\n",
            "     0.    0.    0.    0.]\n",
            " [   0.    0.    0.    0.    0.    0.    0.    0.    0.    0.    0.   43.\n",
            "   505.  968. 1014.  761.  334.   81.    0.    0.    0.    0.    0.    0.\n",
            "     0.    0.    0.    0.]\n",
            " [   0.    0.    0.    0.    0.    0.    0.    0.    0.    0.   20.  253.\n",
            "   740. 1014.  959.  472.   20.    0.    0.    0.    0.    0.    0.    0.\n",
            "     0.    0.    0.    0.]\n",
            " [   0.    0.    0.    0.    0.    0.    0.    0.    0.    0.  188.  647.\n",
            "   966.  957.  655.  212.    7.    0.    0.    0.    0.    0.    0.    0.\n",
            "     0.    0.    0.    0.]\n",
            " [   0.    0.    0.    0.    0.    0.    0.    0.    0.   20.  391.  877.\n",
            "  1007.  773.  279.    7.    0.    0.    0.    0.    0.    0.    0.    0.\n",
            "     0.    0.    0.    0.]\n",
            " [   0.    0.    0.    0.    0.    0.    0.    0.   22.  230.  664.  954.\n",
            "   839.  417.   76.    0.    0.    0.    0.    0.    0.    0.    0.    0.\n",
            "     0.    0.    0.    0.]\n",
            " [   0.    0.    0.    0.    0.    0.    0.    0.  125.  566.  947.  942.\n",
            "   529.   93.    0.    0.    0.    0.    0.    0.    0.    0.    0.    0.\n",
            "     0.    0.    0.    0.]\n",
            " [   0.    0.    0.    0.    0.    0.    0.   89.  432.  849.  954.  664.\n",
            "   216.    0.    0.    0.    0.    0.    0.    0.    0.    0.    0.    0.\n",
            "     0.    0.    0.    0.]\n",
            " [   0.    0.    0.    0.    0.    0.   15.  324.  802.  999.  781.  300.\n",
            "    25.    0.    0.    0.    0.    0.    0.    0.    0.    0.    0.    0.\n",
            "     0.    0.    0.    0.]\n",
            " [   0.    0.    0.    0.    0.    0.  109.  582.  979. 1012.  680.  174.\n",
            "     0.    0.    0.    0.    0.    0.    0.    0.    0.    0.    0.    0.\n",
            "     0.    0.    0.    0.]\n",
            " [   0.    0.    0.    0.    0.    0.  183.  687. 1010. 1009.  728.  225.\n",
            "     0.    0.    0.    0.    0.    0.    0.    0.    0.    0.    0.    0.\n",
            "     0.    0.    0.    0.]\n",
            " [   0.    0.    0.    0.    0.    0.   89.  554.  936.  816.  476.  131.\n",
            "     0.    0.    0.    0.    0.    0.    0.    0.    0.    0.    0.    0.\n",
            "     0.    0.    0.    0.]\n",
            " [   0.    0.    0.    0.    0.    0.    0.  214.  432.  313.   95.    0.\n",
            "     0.    0.    0.    0.    0.    0.    0.    0.    0.    0.    0.    0.\n",
            "     0.    0.    0.    0.]\n",
            " [   0.    0.    0.    0.    0.    0.    0.    0.    0.    0.    0.    0.\n",
            "     0.    0.    0.    0.    0.    0.    0.    0.    0.    0.    0.    0.\n",
            "     0.    0.    0.    0.]\n",
            " [   0.    0.    0.    0.    0.    0.    0.    0.    0.    0.    0.    0.\n",
            "     0.    0.    0.    0.    0.    0.    0.    0.    0.    0.    0.    0.\n",
            "     0.    0.    0.    0.]\n",
            " [   0.    0.    0.    0.    0.    0.    0.    0.    0.    0.    0.    0.\n",
            "     0.    0.    0.    0.    0.    0.    0.    0.    0.    0.    0.    0.\n",
            "     0.    0.    0.    0.]\n",
            " [   0.    0.    0.    0.    0.    0.    0.    0.    0.    0.    0.    0.\n",
            "     0.    0.    0.    0.    0.    0.    0.    0.    0.    0.    0.    0.\n",
            "     0.    0.    0.    0.]]\n"
          ],
          "name": "stdout"
        },
        {
          "output_type": "display_data",
          "data": {
            "image/png": "[encoded data removed]",
            "text/plain": [
              "<Figure size 432x288 with 1 Axes>"
            ]
          },
          "metadata": {
            "tags": [],
            "needs_background": "light"
          }
        }
      ]
    },
    {
      "cell_type": "code",
      "metadata": {
        "colab": {
          "base_uri": "https://localhost:8080/",
          "height": 303
        },
        "id": "Dcn0UlLBk3BJ",
        "outputId": "7e853f76-d436-4333-c787-81f9c7fc3096"
      },
      "source": [
        "pool = tf.nn.max_pool(image, ksize=[1, 2, 2, 1],\n",
        "                    strides=[1, 1, 1, 1], padding='SAME')\n",
        "print(pool.shape)\n",
        "plt.imshow(pool.eval().reshape(28,28), cmap='gray')"
      ],
      "execution_count": 25,
      "outputs": [
        {
          "output_type": "stream",
          "text": [
            "(1, 28, 28, 1)\n"
          ],
          "name": "stdout"
        },
        {
          "output_type": "execute_result",
          "data": {
            "text/plain": [
              "<matplotlib.image.AxesImage at 0x7fca564f1748>"
            ]
          },
          "metadata": {
            "tags": []
          },
          "execution_count": 25
        },
        {
          "output_type": "display_data",
          "data": {
            "image/png": "[encoded data removed]",
            "text/plain": [
              "<Figure size 432x288 with 1 Axes>"
            ]
          },
          "metadata": {
            "tags": [],
            "needs_background": "light"
          }
        }
      ]
    },
    {
      "cell_type": "code",
      "metadata": {
        "colab": {
          "base_uri": "https://localhost:8080/",
          "height": 508
        },
        "id": "mUr6UX4TlnM_",
        "outputId": "f6710812-d635-4bc5-97ff-4ba95dd32deb"
      },
      "source": [
        "sess=tf.InteractiveSession()\n",
        "\n",
        "image=x_data[2]\n",
        "image=image.reshape(-1,28,28,1)\n",
        "W1= tf.Variable(tf.random_normal([3,3,1,5],stddev=0.01))\n",
        "print(W1.shape)\n",
        "sess.run(tf.global_variables_initializer())\n",
        "print(sess.run(W1))\n",
        "conv2d=tf.nn.conv2d(image,W1,strides=[1,2,2,1],padding='SAME')\n",
        "conv2d_img=conv2d.eval()\n",
        "print(conv2d_img.shape)\n",
        "conv2d_img=np.swapaxes(conv2d_img,0,3)\n",
        "for i,one_image in enumerate(conv2d_img):\n",
        "  plt.subplot(1,5,i+1), plt.imshow(one_img.reshape(28,28), cmap='gray')"
      ],
      "execution_count": 47,
      "outputs": [
        {
          "output_type": "stream",
          "text": [
            "(3, 3, 1, 5)\n",
            "[[[[-0.00296431 -0.01652618 -0.00589791 -0.01408991 -0.00418498]]\n",
            "\n",
            "  [[-0.00460558 -0.00519777 -0.01137976 -0.00345812 -0.00899411]]\n",
            "\n",
            "  [[ 0.00350656 -0.01423041  0.00203009 -0.0087888  -0.00502453]]]\n",
            "\n",
            "\n",
            " [[[-0.00745511 -0.0128881   0.00663817  0.00555867 -0.00744454]]\n",
            "\n",
            "  [[-0.00523539  0.00913174  0.00502904  0.01132299  0.02436396]]\n",
            "\n",
            "  [[ 0.00346043 -0.01028724 -0.00423652  0.00147867  0.00060864]]]\n",
            "\n",
            "\n",
            " [[[ 0.00020771  0.00725557 -0.02013093  0.0106123   0.01417744]]\n",
            "\n",
            "  [[-0.00255514 -0.01014748 -0.00316114  0.01383515 -0.00398   ]]\n",
            "\n",
            "  [[ 0.00145773  0.01655586  0.00805706 -0.00353084  0.00738818]]]]\n",
            "(1, 14, 14, 5)\n"
          ],
          "name": "stdout"
        },
        {
          "output_type": "display_data",
          "data": {
            "image/png": "[encoded data removed]",
            "text/plain": [
              "<Figure size 432x288 with 5 Axes>"
            ]
          },
          "metadata": {
            "tags": [],
            "needs_background": "light"
          }
        }
      ]
    },
    {
      "cell_type": "code",
      "metadata": {
        "colab": {
          "base_uri": "https://localhost:8080/",
          "height": 125
        },
        "id": "LXynia4ImBuO",
        "outputId": "3eac7eb8-ec12-4d1d-9269-684710847324"
      },
      "source": [
        "pool = tf.nn.max_pool(conv2d, ksize=[1, 2, 2, 1],\n",
        "                    strides=[1, 2, 2, 1], padding='VALID')\n",
        "print(pool.shape)\n",
        "pool_img=pool.eval()\n",
        "pool_img=np.swapaxes(pool_img, 0, 3)\n",
        "for i, img in enumerate(pool_img):\n",
        "  plt.subplot(1,5,i+1), plt.imshow(img.reshape(7,7),cmap='gray')"
      ],
      "execution_count": 60,
      "outputs": [
        {
          "output_type": "stream",
          "text": [
            "(1, 7, 7, 5)\n"
          ],
          "name": "stdout"
        },
        {
          "output_type": "display_data",
          "data": {
            "image/png": "[encoded data removed]",
            "text/plain": [
              "<Figure size 432x288 with 5 Axes>"
            ]
          },
          "metadata": {
            "tags": [],
            "needs_background": "light"
          }
        }
      ]
    }
  ]
}