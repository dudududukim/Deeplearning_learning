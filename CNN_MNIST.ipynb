{
  "nbformat": 4,
  "nbformat_minor": 0,
  "metadata": {
    "colab": {
      "name": "CNN_MNIST.ipynb",
      "provenance": [],
      "mount_file_id": "1MpLo1UcHVwQuHlEIC8dN9IiVAk7Si_AL",
      "authorship_tag": "ABX9TyNW64c8a3HaX75DIFoYRCmo",
      "include_colab_link": true
    },
    "kernelspec": {
      "display_name": "Python 3",
      "name": "python3"
    }
  },
  "cells": [
    {
      "cell_type": "markdown",
      "metadata": {
        "id": "view-in-github",
        "colab_type": "text"
      },
      "source": [
        "<a href=\"https://colab.research.google.com/github/dudududukim/Deeplearning_learning/blob/MNIST/CNN_MNIST.ipynb\" target=\"_parent\"><img src=\"https://colab.research.google.com/assets/colab-badge.svg\" alt=\"Open In Colab\"/></a>"
      ]
    },
    {
      "cell_type": "code",
      "metadata": {
        "colab": {
          "background_save": true,
          "base_uri": "https://localhost:8080/"
        },
        "id": "eT3mzJjlKc2-",
        "outputId": "7dd9e817-91af-4e2b-ddf2-8e0b12ebca67"
      },
      "source": [
        "pip install tensorflow==1.4.0"
      ],
      "execution_count": null,
      "outputs": [
        {
          "output_type": "stream",
          "text": [
            "Requirement already satisfied: tensorflow==1.4.0 in /usr/local/lib/python3.6/dist-packages (1.4.0)\n",
            "Requirement already satisfied: numpy>=1.12.1 in /usr/local/lib/python3.6/dist-packages (from tensorflow==1.4.0) (1.19.5)\n",
            "Requirement already satisfied: tensorflow-tensorboard<0.5.0,>=0.4.0rc1 in /usr/local/lib/python3.6/dist-packages (from tensorflow==1.4.0) (0.4.0)\n",
            "Requirement already satisfied: enum34>=1.1.6 in /usr/local/lib/python3.6/dist-packages (from tensorflow==1.4.0) (1.1.10)\n",
            "Requirement already satisfied: protobuf>=3.3.0 in /usr/local/lib/python3.6/dist-packages (from tensorflow==1.4.0) (3.12.4)\n",
            "Requirement already satisfied: six>=1.10.0 in /usr/local/lib/python3.6/dist-packages (from tensorflow==1.4.0) (1.15.0)\n",
            "Requirement already satisfied: wheel>=0.26 in /usr/local/lib/python3.6/dist-packages (from tensorflow==1.4.0) (0.36.2)\n",
            "Requirement already satisfied: markdown>=2.6.8 in /usr/local/lib/python3.6/dist-packages (from tensorflow-tensorboard<0.5.0,>=0.4.0rc1->tensorflow==1.4.0) (3.3.3)\n",
            "Requirement already satisfied: html5lib==0.9999999 in /usr/local/lib/python3.6/dist-packages (from tensorflow-tensorboard<0.5.0,>=0.4.0rc1->tensorflow==1.4.0) (0.9999999)\n",
            "Requirement already satisfied: bleach==1.5.0 in /usr/local/lib/python3.6/dist-packages (from tensorflow-tensorboard<0.5.0,>=0.4.0rc1->tensorflow==1.4.0) (1.5.0)\n",
            "Requirement already satisfied: werkzeug>=0.11.10 in /usr/local/lib/python3.6/dist-packages (from tensorflow-tensorboard<0.5.0,>=0.4.0rc1->tensorflow==1.4.0) (1.0.1)\n",
            "Requirement already satisfied: setuptools in /usr/local/lib/python3.6/dist-packages (from protobuf>=3.3.0->tensorflow==1.4.0) (53.0.0)\n",
            "Requirement already satisfied: importlib-metadata; python_version < \"3.8\" in /usr/local/lib/python3.6/dist-packages (from markdown>=2.6.8->tensorflow-tensorboard<0.5.0,>=0.4.0rc1->tensorflow==1.4.0) (3.4.0)\n",
            "Requirement already satisfied: typing-extensions>=3.6.4; python_version < \"3.8\" in /usr/local/lib/python3.6/dist-packages (from importlib-metadata; python_version < \"3.8\"->markdown>=2.6.8->tensorflow-tensorboard<0.5.0,>=0.4.0rc1->tensorflow==1.4.0) (3.7.4.3)\n",
            "Requirement already satisfied: zipp>=0.5 in /usr/local/lib/python3.6/dist-packages (from importlib-metadata; python_version < \"3.8\"->markdown>=2.6.8->tensorflow-tensorboard<0.5.0,>=0.4.0rc1->tensorflow==1.4.0) (3.4.0)\n"
          ],
          "name": "stdout"
        }
      ]
    },
    {
      "cell_type": "code",
      "metadata": {
        "id": "5qFy-JA2UNpi"
      },
      "source": [
        "image = x_data[0]\n",
        "print(image.reshape(1,28,28,1))"
      ],
      "execution_count": null,
      "outputs": []
    },
    {
      "cell_type": "code",
      "metadata": {
        "id": "Ud0cAOHhZarW"
      },
      "source": [
        "image=image.reshape(1,28,28,1)\n",
        "print(\"image.shape\", image.shape)\n",
        "weight = tf.constant([[[[1.]],[[1.]]],\n",
        "                      [[[1.]],[[1.]]]])\n",
        "print(\"weight.shape\", weight.shape)\n",
        "conv2d = tf.nn.conv2d(image, weight, strides=[1, 1, 1, 1], padding='SAME')\n",
        "\n",
        "#tensor인 conv2d를 np array로 바꿔주는 역할\n",
        "conv2d_img = conv2d.eval()\n",
        "print(\"conv2d_img.shape\", conv2d_img.shape)\n",
        "#print(\"conv2d_image\\n\", conv2d_img)\n",
        "\n",
        "#사실 1x2x2x1인 array에서 swapaxes는 의미 없는듯?\n",
        "conv2d_img = np.swapaxes(conv2d_img, 0, 3)\n",
        "#print('conv2d_swap_img\\n', conv2d_img)\n",
        "for i, one_img in enumerate(conv2d_img):\n",
        "    print(one_img.reshape(28,28))\n",
        "    plt.subplot(1,2,i+1), plt.imshow(one_img.reshape(28,28), cmap='gray')"
      ],
      "execution_count": null,
      "outputs": []
    },
    {
      "cell_type": "code",
      "metadata": {
        "id": "RnWrT-I0Zb4t"
      },
      "source": [
        "pool = tf.nn.max_pool(image, ksize=[1, 2, 2, 1],\n",
        "                    strides=[1, 1, 1, 1], padding='SAME')\n",
        "print(pool.shape)\n",
        "plt.imshow(pool.eval().reshape(28,28), cmap='gray')"
      ],
      "execution_count": null,
      "outputs": []
    },
    {
      "cell_type": "code",
      "metadata": {
        "id": "VoLvTpSAZeC0"
      },
      "source": [
        "sess=tf.InteractiveSession()\n",
        "\n",
        "image=x_data[2]\n",
        "image=image.reshape(-1,28,28,1)\n",
        "W1= tf.Variable(tf.random_normal([3,3,1,5],stddev=0.01))\n",
        "print(W1.shape)\n",
        "sess.run(tf.global_variables_initializer())\n",
        "print(sess.run(W1))\n",
        "conv2d=tf.nn.conv2d(image,W1,strides=[1,2,2,1],padding='SAME')\n",
        "conv2d_img=conv2d.eval()\n",
        "print(conv2d_img.shape)\n",
        "conv2d_img=np.swapaxes(conv2d_img,0,3)\n",
        "for i,one_image in enumerate(conv2d_img):\n",
        "  plt.subplot(1,5,i+1), plt.imshow(one_img.reshape(28,28), cmap='gray')"
      ],
      "execution_count": null,
      "outputs": []
    },
    {
      "cell_type": "code",
      "metadata": {
        "id": "hDgrBEL-ZgL7"
      },
      "source": [
        "pool = tf.nn.max_pool(conv2d, ksize=[1, 2, 2, 1],\n",
        "                    strides=[1, 2, 2, 1], padding='VALID')\n",
        "print(pool.shape)\n",
        "pool_img=pool.eval()\n",
        "pool_img=np.swapaxes(pool_img, 0, 3)\n",
        "for i, img in enumerate(pool_img):\n",
        "  plt.subplot(1,5,i+1), plt.imshow(img.reshape(7,7),cmap='gray')"
      ],
      "execution_count": null,
      "outputs": []
    },
    {
      "cell_type": "code",
      "metadata": {
        "colab": {
          "base_uri": "https://localhost:8080/"
        },
        "id": "x9W1umZZKi4P",
        "outputId": "3b5924af-dbbe-4ae4-f51d-5cc45b6e7506"
      },
      "source": [
        "import numpy as np\n",
        "import tensorflow as tf\n",
        "import matplotlib.pyplot as plt\n",
        "import random\n",
        "\n",
        " \n",
        "tf.set_random_seed(777)  # for reproducibility\n",
        "\n",
        "#file input from google drive\n",
        "xy=np.loadtxt('/content/drive/MyDrive/tensorflow/mnist/train.csv',delimiter=',',dtype=np.float32)\n",
        "x_data = xy[:,1:]\n",
        "y_data = xy[:,0]\n",
        " \n",
        "xy_test=np.loadtxt('/content/drive/MyDrive/tensorflow/mnist/mnist_test.csv',delimiter=',',dtype=np.float32)\n",
        "test_x = xy_test[:,1:]\n",
        "test_y = xy_test[:,0]\n",
        "\n",
        "print('Data loaded!!')"
      ],
      "execution_count": null,
      "outputs": [
        {
          "output_type": "stream",
          "text": [
            "/usr/local/lib/python3.6/dist-packages/tensorflow/python/framework/dtypes.py:469: FutureWarning: Passing (type, 1) or '1type' as a synonym of type is deprecated; in a future version of numpy, it will be understood as (type, (1,)) / '(1,)type'.\n",
            "  _np_qint8 = np.dtype([(\"qint8\", np.int8, 1)])\n",
            "/usr/local/lib/python3.6/dist-packages/tensorflow/python/framework/dtypes.py:470: FutureWarning: Passing (type, 1) or '1type' as a synonym of type is deprecated; in a future version of numpy, it will be understood as (type, (1,)) / '(1,)type'.\n",
            "  _np_quint8 = np.dtype([(\"quint8\", np.uint8, 1)])\n",
            "/usr/local/lib/python3.6/dist-packages/tensorflow/python/framework/dtypes.py:471: FutureWarning: Passing (type, 1) or '1type' as a synonym of type is deprecated; in a future version of numpy, it will be understood as (type, (1,)) / '(1,)type'.\n",
            "  _np_qint16 = np.dtype([(\"qint16\", np.int16, 1)])\n",
            "/usr/local/lib/python3.6/dist-packages/tensorflow/python/framework/dtypes.py:472: FutureWarning: Passing (type, 1) or '1type' as a synonym of type is deprecated; in a future version of numpy, it will be understood as (type, (1,)) / '(1,)type'.\n",
            "  _np_quint16 = np.dtype([(\"quint16\", np.uint16, 1)])\n",
            "/usr/local/lib/python3.6/dist-packages/tensorflow/python/framework/dtypes.py:473: FutureWarning: Passing (type, 1) or '1type' as a synonym of type is deprecated; in a future version of numpy, it will be understood as (type, (1,)) / '(1,)type'.\n",
            "  _np_qint32 = np.dtype([(\"qint32\", np.int32, 1)])\n",
            "/usr/local/lib/python3.6/dist-packages/tensorflow/python/framework/dtypes.py:476: FutureWarning: Passing (type, 1) or '1type' as a synonym of type is deprecated; in a future version of numpy, it will be understood as (type, (1,)) / '(1,)type'.\n",
            "  np_resource = np.dtype([(\"resource\", np.ubyte, 1)])\n",
            "/usr/lib/python3.6/importlib/_bootstrap.py:219: RuntimeWarning: compiletime version 3.5 of module 'tensorflow.python.framework.fast_tensor_util' does not match runtime version 3.6\n",
            "  return f(*args, **kwds)\n"
          ],
          "name": "stderr"
        },
        {
          "output_type": "stream",
          "text": [
            "Data loaded!!\n"
          ],
          "name": "stdout"
        }
      ]
    },
    {
      "cell_type": "code",
      "metadata": {
        "id": "L5isZYlqZhK7"
      },
      "source": [
        "tf.reset_default_graph()\n",
        "x=tf.placeholder(tf.float32,shape=[None, 784])\n",
        "x_img=tf.reshape(x, (-1,28,28,1), name='ximg')\n",
        "\n",
        "W1=tf.Variable(tf.random_normal([3,3,1,32], stddev=0.01))\n",
        "l1=tf.nn.conv2d(x_img, W1, strides=(1,1,1,1),padding='SAME')\n",
        "l1=tf.nn.relu(l1)\n",
        "l1=tf.nn.max_pool(l1,ksize=(1,2,2,1),strides=(1,2,2,1),padding='SAME')\n",
        "\n",
        "W2=tf.Variable(tf.random_normal([3,3,32,64], stddev=0.01))\n",
        "l2=tf.nn.conv2d(l1, W2, strides=(1,1,1,1),padding='SAME')\n",
        "l2=tf.nn.relu(l2)\n",
        "l2=tf.nn.max_pool(l2,ksize=(1,2,2,1),strides=(1,2,2,1),padding='SAME')\n",
        "\n",
        "fcl=tf.reshape(l2,[-1,7*7*64],name='fullyconnected-layer')"
      ],
      "execution_count": null,
      "outputs": []
    },
    {
      "cell_type": "code",
      "metadata": {
        "colab": {
          "base_uri": "https://localhost:8080/",
          "height": 1000
        },
        "id": "0bGQxkCaxgP7",
        "outputId": "d512429e-c2dd-4dc6-bd06-dfd5bae444c1"
      },
      "source": [
        "nb_classes = 10\n",
        "num_fcl=7*7*64\n",
        "\n",
        "y = tf.placeholder(tf.int32, [None, 1])\n",
        "\n",
        "keep_prob=tf.placeholder(tf.float32)\n",
        "\n",
        "y_one_hot = tf.one_hot(y, nb_classes)\n",
        "y_one_hot = tf.reshape(y_one_hot, [-1, nb_classes])\n",
        "\n",
        "w1 = tf.get_variable('w1', shape=[num_fcl, nb_classes], initializer=tf.contrib.layers.xavier_initializer())\n",
        "b1 = tf.Variable(tf.random_normal([nb_classes]))\n",
        "'''\n",
        "layer1=tf.nn.dropout(layer1,keep_prob=keep_prob)\n",
        "\n",
        "w2 = tf.get_variable(\"w2\", shape=[512, 512], initializer=tf.contrib.layers.xavier_initializer())\n",
        "b2 = tf.Variable(tf.random_normal([512]))\n",
        "layer2=tf.nn.relu(tf.matmul(layer1, w2)+b2)\n",
        "layer2=tf.nn.dropout(layer2,keep_prob=keep_prob)\n",
        "\n",
        "w3 = tf.get_variable(\"w3\", shape=[512, 512], initializer=tf.contrib.layers.xavier_initializer())\n",
        "b3 = tf.Variable(tf.random_normal([512]))\n",
        "layer3=tf.nn.relu(tf.matmul(layer2, w3)+b3)\n",
        "layer3=tf.nn.dropout(layer3,keep_prob=keep_prob)\n",
        "\n",
        "w4 = tf.get_variable(\"w4\", shape=[512, nb_classes], initializer=tf.contrib.layers.xavier_initializer())\n",
        "b4 = tf.Variable(tf.random_normal([nb_classes]))\n",
        "'''\n",
        "# Hypothesis (using softmax)\n",
        "logits = tf.matmul(fcl,w1)+b1\n",
        "hypothesis = tf.nn.softmax(logits)\n",
        " \n",
        "cost_i=tf.nn.softmax_cross_entropy_with_logits(logits=logits, labels=y_one_hot)\n",
        "cost=tf.reduce_mean(cost_i)\n",
        " \n",
        "train = tf.train.GradientDescentOptimizer(learning_rate=1e-4).minimize(cost)\n",
        " \n",
        "# Test model\n",
        "is_correct = tf.equal(tf.argmax(hypothesis, 1), tf.argmax(y_one_hot, 1))\n",
        "# Calculate accuracy\n",
        "accuracy = tf.reduce_mean(tf.cast(is_correct, tf.float32))\n",
        "\n",
        "with tf.Session() as sess:\n",
        "\n",
        "  # parameters\n",
        "  num_epochs = 30\n",
        "  batch_size = 200\n",
        "  num_iterations = int(len(x_data)/ batch_size)\n",
        "  \n",
        "  # Initialize TensorFlow variables\n",
        "  sess.run(tf.global_variables_initializer())\n",
        "  # Training cycle\n",
        "  for epoch in range(num_epochs):\n",
        "    avg_cost = 0\n",
        "    for i in range(num_iterations):\n",
        "      srt = i*batch_size\n",
        "      x_batch = x_data[srt:srt+batch_size]\n",
        "      y_batch = y_data[srt:srt+batch_size]\n",
        "      _, cost_val = sess.run([train, cost], feed_dict={x: x_batch, y:y_batch.reshape(len(y_batch),1)})\n",
        "      avg_cost += cost_val / num_iterations\n",
        "\n",
        "    print(\"Epoch: {:04d}, Cost: {:.9f}\".format(epoch + 1, avg_cost))\n",
        "    \n",
        "  print(\"Learning finished\")\n",
        " \n",
        "  # Test the model using test sets\n",
        "  print(\n",
        "      \"Accuracy: \",\n",
        "      accuracy.eval(\n",
        "          session=sess, feed_dict={x: test_x, y: test_y.reshape(len(test_y),1), keep_prob:1}\n",
        "      ),\n",
        "  )\n",
        " \n",
        "  # Get one and predict\n",
        "  for step in range(10):\n",
        "    r = random.randint(0, len(test_x) - 1)\n",
        "    print(\n",
        "      r, \"Prediction: \",\n",
        "      sess.run(tf.argmax(hypothesis, 1), feed_dict={x: test_x[r : r + 1], keep_prob:1}),\n",
        "    )\n",
        " \n",
        "    plt.imshow(\n",
        "      test_x[r : r + 1].reshape(28, 28),\n",
        "      cmap=\"Greys\",\n",
        "      interpolation=\"nearest\",\n",
        "    )\n",
        "    \n",
        "    plt.show()"
      ],
      "execution_count": null,
      "outputs": [
        {
          "output_type": "stream",
          "text": [
            "Epoch: 0001, Cost: 1.936565068\n",
            "Epoch: 0002, Cost: 0.991570757\n",
            "Epoch: 0003, Cost: 0.615499260\n",
            "Epoch: 0004, Cost: 0.487968853\n",
            "Epoch: 0005, Cost: 0.421319934\n",
            "Epoch: 0006, Cost: 0.378332414\n",
            "Epoch: 0007, Cost: 0.347310737\n",
            "Epoch: 0008, Cost: 0.323406032\n",
            "Epoch: 0009, Cost: 0.304148476\n",
            "Epoch: 0010, Cost: 0.288151985\n",
            "Epoch: 0011, Cost: 0.274390084\n",
            "Epoch: 0012, Cost: 0.262326013\n",
            "Epoch: 0013, Cost: 0.251675496\n",
            "Epoch: 0014, Cost: 0.242145205\n",
            "Epoch: 0015, Cost: 0.233566634\n",
            "Epoch: 0016, Cost: 0.225769476\n",
            "Epoch: 0017, Cost: 0.218621752\n",
            "Epoch: 0018, Cost: 0.212022960\n",
            "Epoch: 0019, Cost: 0.205904170\n",
            "Epoch: 0020, Cost: 0.200219301\n",
            "Epoch: 0021, Cost: 0.194906781\n",
            "Epoch: 0022, Cost: 0.189934318\n",
            "Epoch: 0023, Cost: 0.185264890\n",
            "Epoch: 0024, Cost: 0.180830932\n",
            "Epoch: 0025, Cost: 0.176632567\n",
            "Epoch: 0026, Cost: 0.172681154\n",
            "Epoch: 0027, Cost: 0.168934751\n",
            "Epoch: 0028, Cost: 0.165383045\n",
            "Epoch: 0029, Cost: 0.162008766\n",
            "Epoch: 0030, Cost: 0.158802228\n",
            "Learning finished\n",
            "Accuracy:  0.9557\n",
            "1354 Prediction:  [3]\n"
          ],
          "name": "stdout"
        },
        {
          "output_type": "display_data",
          "data": {
            "image/png": "[encoded data removed]",
            "text/plain": [
              "<Figure size 432x288 with 1 Axes>"
            ]
          },
          "metadata": {
            "tags": []
          }
        },
        {
          "output_type": "stream",
          "text": [
            "3243 Prediction:  [0]\n"
          ],
          "name": "stdout"
        },
        {
          "output_type": "display_data",
          "data": {
            "image/png": "[encoded data removed]",
            "text/plain": [
              "<Figure size 432x288 with 1 Axes>"
            ]
          },
          "metadata": {
            "tags": []
          }
        },
        {
          "output_type": "stream",
          "text": [
            "3482 Prediction:  [2]\n"
          ],
          "name": "stdout"
        },
        {
          "output_type": "display_data",
          "data": {
            "image/png": "[encoded data removed]",
            "text/plain": [
              "<Figure size 432x288 with 1 Axes>"
            ]
          },
          "metadata": {
            "tags": []
          }
        },
        {
          "output_type": "stream",
          "text": [
            "1348 Prediction:  [2]\n"
          ],
          "name": "stdout"
        },
        {
          "output_type": "display_data",
          "data": {
            "image/png": "[encoded data removed]",
            "text/plain": [
              "<Figure size 432x288 with 1 Axes>"
            ]
          },
          "metadata": {
            "tags": []
          }
        },
        {
          "output_type": "stream",
          "text": [
            "5013 Prediction:  [1]\n"
          ],
          "name": "stdout"
        },
        {
          "output_type": "display_data",
          "data": {
            "image/png": "[encoded data removed]",
            "text/plain": [
              "<Figure size 432x288 with 1 Axes>"
            ]
          },
          "metadata": {
            "tags": []
          }
        },
        {
          "output_type": "stream",
          "text": [
            "4809 Prediction:  [5]\n"
          ],
          "name": "stdout"
        },
        {
          "output_type": "display_data",
          "data": {
            "image/png": "[encoded data removed]",
            "text/plain": [
              "<Figure size 432x288 with 1 Axes>"
            ]
          },
          "metadata": {
            "tags": []
          }
        },
        {
          "output_type": "stream",
          "text": [
            "62 Prediction:  [9]\n"
          ],
          "name": "stdout"
        },
        {
          "output_type": "display_data",
          "data": {
            "image/png": "[encoded data removed]",
            "text/plain": [
              "<Figure size 432x288 with 1 Axes>"
            ]
          },
          "metadata": {
            "tags": []
          }
        },
        {
          "output_type": "stream",
          "text": [
            "7924 Prediction:  [7]\n"
          ],
          "name": "stdout"
        },
        {
          "output_type": "display_data",
          "data": {
            "image/png": "[encoded data removed]",
            "text/plain": [
              "<Figure size 432x288 with 1 Axes>"
            ]
          },
          "metadata": {
            "tags": []
          }
        },
        {
          "output_type": "stream",
          "text": [
            "6647 Prediction:  [4]\n"
          ],
          "name": "stdout"
        },
        {
          "output_type": "display_data",
          "data": {
            "image/png": "[encoded data removed]",
            "text/plain": [
              "<Figure size 432x288 with 1 Axes>"
            ]
          },
          "metadata": {
            "tags": []
          }
        },
        {
          "output_type": "stream",
          "text": [
            "3686 Prediction:  [3]\n"
          ],
          "name": "stdout"
        },
        {
          "output_type": "display_data",
          "data": {
            "image/png": "[encoded data removed]",
            "text/plain": [
              "<Figure size 432x288 with 1 Axes>"
            ]
          },
          "metadata": {
            "tags": []
          }
        }
      ]
    },
    {
      "cell_type": "code",
      "metadata": {
        "id": "fz5IXI41zCGd"
      },
      "source": [
        ""
      ],
      "execution_count": null,
      "outputs": []
    }
  ]
}