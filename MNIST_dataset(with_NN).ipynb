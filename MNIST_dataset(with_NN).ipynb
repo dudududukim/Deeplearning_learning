{
  "nbformat": 4,
  "nbformat_minor": 0,
  "metadata": {
    "colab": {
      "name": "MNIST dataset(with NN).ipynb",
      "provenance": [],
      "mount_file_id": "1KBlWA227SO44U3ci1Y8x41j3DazHIEx1",
      "authorship_tag": "ABX9TyN+rWn7y0SSzpTv3SGHFd4F",
      "include_colab_link": true
    },
    "kernelspec": {
      "display_name": "Python 3",
      "name": "python3"
    }
  },
  "cells": [
    {
      "cell_type": "markdown",
      "metadata": {
        "id": "view-in-github",
        "colab_type": "text"
      },
      "source": [
        "<a href=\"https://colab.research.google.com/github/dudududukim/Deeplearning_learning/blob/MNIST/MNIST_dataset(with_NN).ipynb\" target=\"_parent\"><img src=\"https://colab.research.google.com/assets/colab-badge.svg\" alt=\"Open In Colab\"/></a>"
      ]
    },
    {
      "cell_type": "code",
      "metadata": {
        "colab": {
          "base_uri": "https://localhost:8080/"
        },
        "id": "o9oENzhUtCJw",
        "outputId": "5e1dac43-1aea-46fa-da1c-b5eb42d76d41"
      },
      "source": [
        "pip install tensorflow==1.4.0"
      ],
      "execution_count": 1,
      "outputs": [
        {
          "output_type": "stream",
          "text": [
            "Requirement already satisfied: tensorflow==1.4.0 in /usr/local/lib/python3.6/dist-packages (1.4.0)\n",
            "Requirement already satisfied: six>=1.10.0 in /usr/local/lib/python3.6/dist-packages (from tensorflow==1.4.0) (1.15.0)\n",
            "Requirement already satisfied: enum34>=1.1.6 in /usr/local/lib/python3.6/dist-packages (from tensorflow==1.4.0) (1.1.10)\n",
            "Requirement already satisfied: tensorflow-tensorboard<0.5.0,>=0.4.0rc1 in /usr/local/lib/python3.6/dist-packages (from tensorflow==1.4.0) (0.4.0)\n",
            "Requirement already satisfied: protobuf>=3.3.0 in /usr/local/lib/python3.6/dist-packages (from tensorflow==1.4.0) (3.12.4)\n",
            "Requirement already satisfied: wheel>=0.26 in /usr/local/lib/python3.6/dist-packages (from tensorflow==1.4.0) (0.36.2)\n",
            "Requirement already satisfied: numpy>=1.12.1 in /usr/local/lib/python3.6/dist-packages (from tensorflow==1.4.0) (1.19.5)\n",
            "Requirement already satisfied: werkzeug>=0.11.10 in /usr/local/lib/python3.6/dist-packages (from tensorflow-tensorboard<0.5.0,>=0.4.0rc1->tensorflow==1.4.0) (1.0.1)\n",
            "Requirement already satisfied: bleach==1.5.0 in /usr/local/lib/python3.6/dist-packages (from tensorflow-tensorboard<0.5.0,>=0.4.0rc1->tensorflow==1.4.0) (1.5.0)\n",
            "Requirement already satisfied: markdown>=2.6.8 in /usr/local/lib/python3.6/dist-packages (from tensorflow-tensorboard<0.5.0,>=0.4.0rc1->tensorflow==1.4.0) (3.3.3)\n",
            "Requirement already satisfied: html5lib==0.9999999 in /usr/local/lib/python3.6/dist-packages (from tensorflow-tensorboard<0.5.0,>=0.4.0rc1->tensorflow==1.4.0) (0.9999999)\n",
            "Requirement already satisfied: setuptools in /usr/local/lib/python3.6/dist-packages (from protobuf>=3.3.0->tensorflow==1.4.0) (53.0.0)\n",
            "Requirement already satisfied: importlib-metadata; python_version < \"3.8\" in /usr/local/lib/python3.6/dist-packages (from markdown>=2.6.8->tensorflow-tensorboard<0.5.0,>=0.4.0rc1->tensorflow==1.4.0) (3.4.0)\n",
            "Requirement already satisfied: zipp>=0.5 in /usr/local/lib/python3.6/dist-packages (from importlib-metadata; python_version < \"3.8\"->markdown>=2.6.8->tensorflow-tensorboard<0.5.0,>=0.4.0rc1->tensorflow==1.4.0) (3.4.0)\n",
            "Requirement already satisfied: typing-extensions>=3.6.4; python_version < \"3.8\" in /usr/local/lib/python3.6/dist-packages (from importlib-metadata; python_version < \"3.8\"->markdown>=2.6.8->tensorflow-tensorboard<0.5.0,>=0.4.0rc1->tensorflow==1.4.0) (3.7.4.3)\n"
          ],
          "name": "stdout"
        }
      ]
    },
    {
      "cell_type": "code",
      "metadata": {
        "colab": {
          "base_uri": "https://localhost:8080/"
        },
        "id": "WyAQ0Kq5s8sW",
        "outputId": "5c3e4af3-dbb4-4432-bcdc-bafd2129ccc7"
      },
      "source": [
        "#epoch와 batch를 이용\n",
        " \n",
        "import numpy as np\n",
        "import tensorflow as tf\n",
        "import matplotlib.pyplot as plt\n",
        "import random\n",
        "import torch\n",
        " \n",
        "tf.set_random_seed(777)  # for reproducibility\n",
        " \n",
        "'''\n",
        "from tensorflow.examples.tutorials.mnist import input_data\n",
        " \n",
        "# Check out https://www.tensorflow.org/get_started/mnist/beginners for\n",
        "# more information about the mnist dataset\n",
        "mnist = input_data.read_data_sets(\"MNIST_data/\", one_hot=True)\n",
        " \n",
        "nb_classes = 10\n",
        "'''\n",
        "#file input from google drive\n",
        "xy=np.loadtxt('/content/drive/MyDrive/tensorflow/mnist/train.csv',delimiter=',',dtype=np.float32)\n",
        "x_data = xy[:,1:]\n",
        "y_data = xy[:,0]\n",
        " \n",
        "test_x=np.loadtxt('/content/drive/MyDrive/tensorflow/mnist/test.csv',delimiter=',',dtype=np.float32)\n",
        " \n",
        " \n",
        "print(y_data)\n",
        "print(len(y_data))\n",
        "print(y_data.reshape(len(y_data),1))\n",
        " \n",
        "'''\n",
        "filename_queue = tf.train.string_input_producer(\n",
        "    ['/content/drive/MyDrive/tensorflow/mnist/train.csv'], shuffle=False, name='filename_queue')\n",
        " \n",
        "reader=tf.TextLineReader()\n",
        "key, value = reader.read(filename_queue)\n",
        " \n",
        "record_defaults=[[0.]]*785\n",
        "xy=tf.decode_csv(value, record_defaults=record_defaults)\n",
        " \n",
        "train_x, train_y =(tf.train.batch([xy[1:], xy[:1]],batch_size=1000))\n",
        "test_x, test_y =(tf.train.batch([xy[1:], xy[:1]],batch_size=100))\n",
        "'''\n",
        " \n",
        "print('Data loaded!!')"
      ],
      "execution_count": 2,
      "outputs": [
        {
          "output_type": "stream",
          "text": [
            "/usr/local/lib/python3.6/dist-packages/tensorflow/python/framework/dtypes.py:469: FutureWarning: Passing (type, 1) or '1type' as a synonym of type is deprecated; in a future version of numpy, it will be understood as (type, (1,)) / '(1,)type'.\n",
            "  _np_qint8 = np.dtype([(\"qint8\", np.int8, 1)])\n",
            "/usr/local/lib/python3.6/dist-packages/tensorflow/python/framework/dtypes.py:470: FutureWarning: Passing (type, 1) or '1type' as a synonym of type is deprecated; in a future version of numpy, it will be understood as (type, (1,)) / '(1,)type'.\n",
            "  _np_quint8 = np.dtype([(\"quint8\", np.uint8, 1)])\n",
            "/usr/local/lib/python3.6/dist-packages/tensorflow/python/framework/dtypes.py:471: FutureWarning: Passing (type, 1) or '1type' as a synonym of type is deprecated; in a future version of numpy, it will be understood as (type, (1,)) / '(1,)type'.\n",
            "  _np_qint16 = np.dtype([(\"qint16\", np.int16, 1)])\n",
            "/usr/local/lib/python3.6/dist-packages/tensorflow/python/framework/dtypes.py:472: FutureWarning: Passing (type, 1) or '1type' as a synonym of type is deprecated; in a future version of numpy, it will be understood as (type, (1,)) / '(1,)type'.\n",
            "  _np_quint16 = np.dtype([(\"quint16\", np.uint16, 1)])\n",
            "/usr/local/lib/python3.6/dist-packages/tensorflow/python/framework/dtypes.py:473: FutureWarning: Passing (type, 1) or '1type' as a synonym of type is deprecated; in a future version of numpy, it will be understood as (type, (1,)) / '(1,)type'.\n",
            "  _np_qint32 = np.dtype([(\"qint32\", np.int32, 1)])\n",
            "/usr/local/lib/python3.6/dist-packages/tensorflow/python/framework/dtypes.py:476: FutureWarning: Passing (type, 1) or '1type' as a synonym of type is deprecated; in a future version of numpy, it will be understood as (type, (1,)) / '(1,)type'.\n",
            "  np_resource = np.dtype([(\"resource\", np.ubyte, 1)])\n",
            "/usr/lib/python3.6/importlib/_bootstrap.py:219: RuntimeWarning: compiletime version 3.5 of module 'tensorflow.python.framework.fast_tensor_util' does not match runtime version 3.6\n",
            "  return f(*args, **kwds)\n"
          ],
          "name": "stderr"
        },
        {
          "output_type": "stream",
          "text": [
            "[1. 0. 1. ... 7. 6. 9.]\n",
            "42000\n",
            "[[1.]\n",
            " [0.]\n",
            " [1.]\n",
            " ...\n",
            " [7.]\n",
            " [6.]\n",
            " [9.]]\n",
            "Data loaded!!\n"
          ],
          "name": "stdout"
        }
      ]
    },
    {
      "cell_type": "code",
      "metadata": {
        "id": "snG-8-ri5zHm",
        "colab": {
          "base_uri": "https://localhost:8080/",
          "height": 1000
        },
        "outputId": "607cf1fc-1b11-48da-89f1-c1b8d630c3fd"
      },
      "source": [
        "nb_classes = 10\n",
        " \n",
        "# MNIST data image of shape 28 * 28 = 784\n",
        "x = tf.placeholder(tf.float32, [None, 784])\n",
        "# 0 - 9 digits recognition = 10 classes\n",
        "y = tf.placeholder(tf.int32, [None, 1])\n",
        " \n",
        "y_one_hot = tf.one_hot(y, nb_classes)\n",
        "y_one_hot = tf.reshape(y_one_hot, [-1, nb_classes])\n",
        " \n",
        "w1 = tf.Variable(tf.random_normal([784, 256]))\n",
        "b1 = tf.Variable(tf.random_normal([256]))\n",
        "layer1=tf.sigmoid(tf.matmul(x, w1)+b1)\n",
        "\n",
        "w2 = tf.Variable(tf.random_normal([256, 256]))\n",
        "b2 = tf.Variable(tf.random_normal([256]))\n",
        "layer2=tf.sigmoid(tf.matmul(layer1, w2)+b2)\n",
        "\n",
        "w3 = tf.Variable(tf.random_normal([256, nb_classes]))\n",
        "b3 = tf.Variable(tf.random_normal([nb_classes]))\n",
        "\n",
        "# Hypothesis (using softmax)\n",
        "logits = tf.matmul(layer2,w3)+b3\n",
        "hypothesis = tf.nn.softmax(logits)\n",
        " \n",
        "cost_i=tf.nn.softmax_cross_entropy_with_logits(logits=logits, labels=y_one_hot)\n",
        "cost=tf.reduce_mean(cost_i)\n",
        " \n",
        "train = tf.train.GradientDescentOptimizer(learning_rate=0.001).minimize(cost)\n",
        " \n",
        "# Test model\n",
        "is_correct = tf.equal(tf.argmax(hypothesis, 1), tf.argmax(y_one_hot, 1))\n",
        "# Calculate accuracy\n",
        "accuracy = tf.reduce_mean(tf.cast(is_correct, tf.float32))\n",
        " \n",
        "with tf.Session() as sess:\n",
        "  # parameters\n",
        "  num_epochs = 15\n",
        "  batch_size = 100\n",
        "  num_iterations = int(len(x_data)/ batch_size)\n",
        "  \n",
        "  # Initialize TensorFlow variables\n",
        "  sess.run(tf.global_variables_initializer())\n",
        "  # Training cycle\n",
        "  for epoch in range(num_epochs):\n",
        "    avg_cost = 0\n",
        "    for i in range(num_iterations):\n",
        "      srt = i*batch_size\n",
        "      x_batch = x_data[srt:srt+batch_size]\n",
        "      y_batch = y_data[srt:srt+batch_size]\n",
        "      _, cost_val = sess.run([train, cost], feed_dict={x: x_batch, y:y_batch.reshape(len(y_batch),1)})\n",
        "      avg_cost += cost_val / (num_iterations+1)\n",
        "\n",
        "    print(\"Epoch: {:04d}, Cost: {:.9f}\".format(epoch + 1, avg_cost))\n",
        "    \n",
        "  print(\"Learning finished\")\n",
        " \n",
        "  # Test the model using test sets\n",
        "  print(\n",
        "      \"Accuracy: \",\n",
        "      accuracy.eval(\n",
        "          session=sess, feed_dict={x: x_data, y: y_data.reshape(len(y_data),1)}\n",
        "      ),\n",
        "  )\n",
        " \n",
        "  # Get one and predict\n",
        "  for step in range(10):\n",
        "    r = random.randint(0, len(test_x) - 1)\n",
        "    print(\n",
        "      r, \"Prediction: \",\n",
        "      sess.run(tf.argmax(hypothesis, 1), feed_dict={x: test_x[r : r + 1]}),\n",
        "    )\n",
        " \n",
        "    plt.imshow(\n",
        "      test_x[r : r + 1].reshape(28, 28),\n",
        "      cmap=\"Greys\",\n",
        "      interpolation=\"nearest\",\n",
        "    )\n",
        "    plt.show()"
      ],
      "execution_count": 4,
      "outputs": [
        {
          "output_type": "stream",
          "text": [
            "Epoch: 0001, Cost: 9.065219405\n",
            "Epoch: 0002, Cost: 7.258877622\n",
            "Epoch: 0003, Cost: 6.692660491\n",
            "Epoch: 0004, Cost: 6.214387504\n",
            "Epoch: 0005, Cost: 5.801606174\n",
            "Epoch: 0006, Cost: 5.428503679\n",
            "Epoch: 0007, Cost: 5.105207490\n",
            "Epoch: 0008, Cost: 4.827238389\n",
            "Epoch: 0009, Cost: 4.583178716\n",
            "Epoch: 0010, Cost: 4.359135432\n",
            "Epoch: 0011, Cost: 4.161996335\n",
            "Epoch: 0012, Cost: 3.984387875\n",
            "Epoch: 0013, Cost: 3.817138849\n",
            "Epoch: 0014, Cost: 3.661807912\n",
            "Epoch: 0015, Cost: 3.536284645\n",
            "Learning finished\n",
            "Accuracy:  0.3885\n",
            "18749 Prediction:  [6]\n"
          ],
          "name": "stdout"
        },
        {
          "output_type": "display_data",
          "data": {
            "image/png": "[encoded data removed]",
            "text/plain": [
              "<Figure size 432x288 with 1 Axes>"
            ]
          },
          "metadata": {
            "tags": [],
            "needs_background": "light"
          }
        },
        {
          "output_type": "stream",
          "text": [
            "915 Prediction:  [8]\n"
          ],
          "name": "stdout"
        },
        {
          "output_type": "display_data",
          "data": {
            "image/png": "[encoded data removed]",
            "text/plain": [
              "<Figure size 432x288 with 1 Axes>"
            ]
          },
          "metadata": {
            "tags": [],
            "needs_background": "light"
          }
        },
        {
          "output_type": "stream",
          "text": [
            "20025 Prediction:  [9]\n"
          ],
          "name": "stdout"
        },
        {
          "output_type": "display_data",
          "data": {
            "image/png": "[encoded data removed]",
            "text/plain": [
              "<Figure size 432x288 with 1 Axes>"
            ]
          },
          "metadata": {
            "tags": [],
            "needs_background": "light"
          }
        },
        {
          "output_type": "stream",
          "text": [
            "3518 Prediction:  [7]\n"
          ],
          "name": "stdout"
        },
        {
          "output_type": "display_data",
          "data": {
            "image/png": "[encoded data removed]",
            "text/plain": [
              "<Figure size 432x288 with 1 Axes>"
            ]
          },
          "metadata": {
            "tags": [],
            "needs_background": "light"
          }
        },
        {
          "output_type": "stream",
          "text": [
            "23775 Prediction:  [7]\n"
          ],
          "name": "stdout"
        },
        {
          "output_type": "display_data",
          "data": {
            "image/png": "[encoded data removed]",
            "text/plain": [
              "<Figure size 432x288 with 1 Axes>"
            ]
          },
          "metadata": {
            "tags": [],
            "needs_background": "light"
          }
        },
        {
          "output_type": "stream",
          "text": [
            "22719 Prediction:  [1]\n"
          ],
          "name": "stdout"
        },
        {
          "output_type": "display_data",
          "data": {
            "image/png": "[encoded data removed]",
            "text/plain": [
              "<Figure size 432x288 with 1 Axes>"
            ]
          },
          "metadata": {
            "tags": [],
            "needs_background": "light"
          }
        },
        {
          "output_type": "stream",
          "text": [
            "3918 Prediction:  [7]\n"
          ],
          "name": "stdout"
        },
        {
          "output_type": "display_data",
          "data": {
            "image/png": "[encoded data removed]",
            "text/plain": [
              "<Figure size 432x288 with 1 Axes>"
            ]
          },
          "metadata": {
            "tags": [],
            "needs_background": "light"
          }
        },
        {
          "output_type": "stream",
          "text": [
            "5626 Prediction:  [2]\n"
          ],
          "name": "stdout"
        },
        {
          "output_type": "display_data",
          "data": {
            "image/png": "[encoded data removed]",
            "text/plain": [
              "<Figure size 432x288 with 1 Axes>"
            ]
          },
          "metadata": {
            "tags": [],
            "needs_background": "light"
          }
        },
        {
          "output_type": "stream",
          "text": [
            "22915 Prediction:  [8]\n"
          ],
          "name": "stdout"
        },
        {
          "output_type": "display_data",
          "data": {
            "image/png": "[encoded data removed]",
            "text/plain": [
              "<Figure size 432x288 with 1 Axes>"
            ]
          },
          "metadata": {
            "tags": [],
            "needs_background": "light"
          }
        },
        {
          "output_type": "stream",
          "text": [
            "23210 Prediction:  [3]\n"
          ],
          "name": "stdout"
        },
        {
          "output_type": "display_data",
          "data": {
            "image/png": "[encoded data removed]",
            "text/plain": [
              "<Figure size 432x288 with 1 Axes>"
            ]
          },
          "metadata": {
            "tags": [],
            "needs_background": "light"
          }
        }
      ]
    },
    {
      "cell_type": "code",
      "metadata": {
        "colab": {
          "base_uri": "https://localhost:8080/",
          "height": 1000
        },
        "id": "CxRGk2Di7sl1",
        "outputId": "6a3aa8eb-3114-43d7-9d94-c0f369c25484"
      },
      "source": [
        "nb_classes = 10\n",
        " \n",
        "# MNIST data image of shape 28 * 28 = 784\n",
        "x = tf.placeholder(tf.float32, [None, 784])\n",
        "# 0 - 9 digits recognition = 10 classes\n",
        "y = tf.placeholder(tf.int32, [None, 1])\n",
        " \n",
        "y_one_hot = tf.one_hot(y, nb_classes)\n",
        "y_one_hot = tf.reshape(y_one_hot, [-1, nb_classes])\n",
        " \n",
        "w = tf.Variable(tf.random_normal([784, nb_classes]))\n",
        "b = tf.Variable(tf.random_normal([nb_classes]))\n",
        "\n",
        "# Hypothesis (using softmax)\n",
        "logits = tf.matmul(x,w)+b\n",
        "hypothesis = tf.nn.softmax(logits)\n",
        " \n",
        "cost_i=tf.nn.softmax_cross_entropy_with_logits(logits=logits, labels=y_one_hot)\n",
        "cost=tf.reduce_mean(cost_i)\n",
        " \n",
        "train = tf.train.GradientDescentOptimizer(learning_rate=0.005).minimize(cost)\n",
        " \n",
        "# Test model\n",
        "is_correct = tf.equal(tf.argmax(hypothesis, 1), tf.argmax(y_one_hot, 1))\n",
        "# Calculate accuracy\n",
        "accuracy = tf.reduce_mean(tf.cast(is_correct, tf.float32))\n",
        " \n",
        "with tf.Session() as sess:\n",
        "  # parameters\n",
        "  num_epochs = 15\n",
        "  batch_size = 100\n",
        "  num_iterations = int(len(x_data)/ batch_size)\n",
        "\n",
        "  # Initialize TensorFlow variables\n",
        "  sess.run(tf.global_variables_initializer())\n",
        "  # Training cycle\n",
        "  for epoch in range(num_epochs):\n",
        "    avg_cost = 0\n",
        "    \n",
        "    for i in range(num_iterations):\n",
        "      srt = i*batch_size\n",
        "      x_batch = x_data[srt:srt+batch_size]\n",
        "      y_batch = y_data[srt:srt+batch_size]\n",
        "      _, cost_val = sess.run([train, cost], feed_dict={x: x_batch, y:y_batch.reshape(len(y_batch),1)})\n",
        "      avg_cost += cost_val / num_iterations\n",
        "\n",
        "    print(\"Epoch: {:04d}, Cost: {:.9f}\".format(epoch + 1, avg_cost))\n",
        "    \n",
        "  print(\"Learning finished\")\n",
        " \n",
        "  # Test the model using test sets\n",
        "  print(\n",
        "      \"Accuracy: \",\n",
        "      accuracy.eval(\n",
        "          session=sess, feed_dict={x: x_data, y: y_data.reshape(len(y_data),1)}\n",
        "      ),\n",
        "  )\n",
        " \n",
        "  # Get one and predict\n",
        "  for step in range(10):\n",
        "    r = random.randint(0, len(test_x) - 1)\n",
        "    print(\n",
        "      r, \"Prediction: \",\n",
        "      sess.run(tf.argmax(hypothesis, 1), feed_dict={x: test_x[r : r + 1]}),\n",
        "    )\n",
        " \n",
        "    plt.imshow(\n",
        "      test_x[r : r + 1].reshape(28, 28),\n",
        "      cmap=\"Greys\",\n",
        "      interpolation=\"nearest\",\n",
        "    )\n",
        "    plt.show()"
      ],
      "execution_count": 5,
      "outputs": [
        {
          "output_type": "stream",
          "text": [
            "Epoch: 0001, Cost: 246.206064933\n",
            "Epoch: 0002, Cost: 123.562274461\n",
            "Epoch: 0003, Cost: 102.103357674\n",
            "Epoch: 0004, Cost: 89.660546446\n",
            "Epoch: 0005, Cost: 82.482995358\n",
            "Epoch: 0006, Cost: 76.031705216\n",
            "Epoch: 0007, Cost: 70.837301089\n",
            "Epoch: 0008, Cost: 68.875902210\n",
            "Epoch: 0009, Cost: 66.879335009\n",
            "Epoch: 0010, Cost: 65.373248931\n",
            "Epoch: 0011, Cost: 61.823645126\n",
            "Epoch: 0012, Cost: 62.352097373\n",
            "Epoch: 0013, Cost: 60.877956368\n",
            "Epoch: 0014, Cost: 59.597083523\n",
            "Epoch: 0015, Cost: 59.103019622\n",
            "Learning finished\n",
            "Accuracy:  0.89861906\n",
            "26279 Prediction:  [5]\n"
          ],
          "name": "stdout"
        },
        {
          "output_type": "display_data",
          "data": {
            "image/png": "[encoded data removed]",
            "text/plain": [
              "<Figure size 432x288 with 1 Axes>"
            ]
          },
          "metadata": {
            "tags": [],
            "needs_background": "light"
          }
        },
        {
          "output_type": "stream",
          "text": [
            "17744 Prediction:  [6]\n"
          ],
          "name": "stdout"
        },
        {
          "output_type": "display_data",
          "data": {
            "image/png": "[encoded data removed]",
            "text/plain": [
              "<Figure size 432x288 with 1 Axes>"
            ]
          },
          "metadata": {
            "tags": [],
            "needs_background": "light"
          }
        },
        {
          "output_type": "stream",
          "text": [
            "25177 Prediction:  [1]\n"
          ],
          "name": "stdout"
        },
        {
          "output_type": "display_data",
          "data": {
            "image/png": "[encoded data removed]",
            "text/plain": [
              "<Figure size 432x288 with 1 Axes>"
            ]
          },
          "metadata": {
            "tags": [],
            "needs_background": "light"
          }
        },
        {
          "output_type": "stream",
          "text": [
            "476 Prediction:  [1]\n"
          ],
          "name": "stdout"
        },
        {
          "output_type": "display_data",
          "data": {
            "image/png": "[encoded data removed]",
            "text/plain": [
              "<Figure size 432x288 with 1 Axes>"
            ]
          },
          "metadata": {
            "tags": [],
            "needs_background": "light"
          }
        },
        {
          "output_type": "stream",
          "text": [
            "20581 Prediction:  [5]\n"
          ],
          "name": "stdout"
        },
        {
          "output_type": "display_data",
          "data": {
            "image/png": "[encoded data removed]",
            "text/plain": [
              "<Figure size 432x288 with 1 Axes>"
            ]
          },
          "metadata": {
            "tags": [],
            "needs_background": "light"
          }
        },
        {
          "output_type": "stream",
          "text": [
            "14976 Prediction:  [4]\n"
          ],
          "name": "stdout"
        },
        {
          "output_type": "display_data",
          "data": {
            "image/png": "[encoded data removed]",
            "text/plain": [
              "<Figure size 432x288 with 1 Axes>"
            ]
          },
          "metadata": {
            "tags": [],
            "needs_background": "light"
          }
        },
        {
          "output_type": "stream",
          "text": [
            "25199 Prediction:  [4]\n"
          ],
          "name": "stdout"
        },
        {
          "output_type": "display_data",
          "data": {
            "image/png": "[encoded data removed]",
            "text/plain": [
              "<Figure size 432x288 with 1 Axes>"
            ]
          },
          "metadata": {
            "tags": [],
            "needs_background": "light"
          }
        },
        {
          "output_type": "stream",
          "text": [
            "2622 Prediction:  [1]\n"
          ],
          "name": "stdout"
        },
        {
          "output_type": "display_data",
          "data": {
            "image/png": "[encoded data removed]",
            "text/plain": [
              "<Figure size 432x288 with 1 Axes>"
            ]
          },
          "metadata": {
            "tags": [],
            "needs_background": "light"
          }
        },
        {
          "output_type": "stream",
          "text": [
            "9034 Prediction:  [2]\n"
          ],
          "name": "stdout"
        },
        {
          "output_type": "display_data",
          "data": {
            "image/png": "[encoded data removed]",
            "text/plain": [
              "<Figure size 432x288 with 1 Axes>"
            ]
          },
          "metadata": {
            "tags": [],
            "needs_background": "light"
          }
        },
        {
          "output_type": "stream",
          "text": [
            "2021 Prediction:  [9]\n"
          ],
          "name": "stdout"
        },
        {
          "output_type": "display_data",
          "data": {
            "image/png": "[encoded data removed]",
            "text/plain": [
              "<Figure size 432x288 with 1 Axes>"
            ]
          },
          "metadata": {
            "tags": [],
            "needs_background": "light"
          }
        }
      ]
    },
    {
      "cell_type": "code",
      "metadata": {
        "colab": {
          "base_uri": "https://localhost:8080/",
          "height": 1000
        },
        "id": "b2I-mLlK8R79",
        "outputId": "80e364a8-3620-499d-c4ba-633cdad03602"
      },
      "source": [
        "#activiation function을 sigmoid 대신 ReLU를 사용\n",
        "\n",
        "nb_classes = 10\n",
        " \n",
        "# MNIST data image of shape 28 * 28 = 784\n",
        "x = tf.placeholder(tf.float32, [None, 784])\n",
        "# 0 - 9 digits recognition = 10 classes\n",
        "y = tf.placeholder(tf.int32, [None, 1])\n",
        " \n",
        "y_one_hot = tf.one_hot(y, nb_classes)\n",
        "y_one_hot = tf.reshape(y_one_hot, [-1, nb_classes])\n",
        " \n",
        "w1 = tf.Variable(tf.random_normal([784, 256]))\n",
        "b1 = tf.Variable(tf.random_normal([256]))\n",
        "layer1=tf.nn.relu(tf.matmul(x, w1)+b1)\n",
        "\n",
        "w2 = tf.Variable(tf.random_normal([256, 256]))\n",
        "b2 = tf.Variable(tf.random_normal([256]))\n",
        "layer2=tf.nn.relu(tf.matmul(layer1, w2)+b2)\n",
        "\n",
        "w3 = tf.Variable(tf.random_normal([256, nb_classes]))\n",
        "b3 = tf.Variable(tf.random_normal([nb_classes]))\n",
        "\n",
        "# Hypothesis (using softmax)\n",
        "logits = tf.matmul(layer2,w3)+b3\n",
        "hypothesis = tf.nn.softmax(logits)\n",
        " \n",
        "cost_i=tf.nn.softmax_cross_entropy_with_logits(logits=logits, labels=y_one_hot)\n",
        "cost=tf.reduce_mean(cost_i)\n",
        " \n",
        "train = tf.train.GradientDescentOptimizer(learning_rate=1e-4).minimize(cost)\n",
        " \n",
        "# Test model\n",
        "is_correct = tf.equal(tf.argmax(hypothesis, 1), tf.argmax(y_one_hot, 1))\n",
        "# Calculate accuracy\n",
        "accuracy = tf.reduce_mean(tf.cast(is_correct, tf.float32))\n",
        " \n",
        "with tf.Session() as sess:\n",
        "  # parameters\n",
        "  num_epochs = 30\n",
        "  batch_size = 200\n",
        "  num_iterations = int(len(x_data)/ batch_size)\n",
        "  \n",
        "  # Initialize TensorFlow variables\n",
        "  sess.run(tf.global_variables_initializer())\n",
        "  # Training cycle\n",
        "  for epoch in range(num_epochs):\n",
        "    avg_cost = 0\n",
        "    for i in range(num_iterations):\n",
        "      srt = i*batch_size\n",
        "      x_batch = x_data[srt:srt+batch_size]\n",
        "      y_batch = y_data[srt:srt+batch_size]\n",
        "      _, cost_val = sess.run([train, cost], feed_dict={x: x_batch, y:y_batch.reshape(len(y_batch),1)})\n",
        "      avg_cost += cost_val / (num_iterations+1)\n",
        "\n",
        "    print(\"Epoch: {:04d}, Cost: {:.9f}\".format(epoch + 1, avg_cost))\n",
        "    \n",
        "  print(\"Learning finished\")\n",
        " \n",
        "  # Test the model using test sets\n",
        "  print(\n",
        "      \"Accuracy: \",\n",
        "      accuracy.eval(\n",
        "          session=sess, feed_dict={x: x_data, y: y_data.reshape(len(y_data),1)}\n",
        "      ),\n",
        "  )\n",
        " \n",
        "  # Get one and predict\n",
        "  for step in range(10):\n",
        "    r = random.randint(0, len(test_x) - 1)\n",
        "    print(\n",
        "      r, \"Prediction: \",\n",
        "      sess.run(tf.argmax(hypothesis, 1), feed_dict={x: test_x[r : r + 1]}),\n",
        "    )\n",
        " \n",
        "    plt.imshow(\n",
        "      test_x[r : r + 1].reshape(28, 28),\n",
        "      cmap=\"Greys\",\n",
        "      interpolation=\"nearest\",\n",
        "    )\n",
        "    plt.show()"
      ],
      "execution_count": 14,
      "outputs": [
        {
          "output_type": "stream",
          "text": [
            "Epoch: 0001, Cost: 24688.569007331\n",
            "Epoch: 0002, Cost: 3179.796788220\n",
            "Epoch: 0003, Cost: 1911.918295910\n",
            "Epoch: 0004, Cost: 1321.946369334\n",
            "Epoch: 0005, Cost: 975.548776853\n",
            "Epoch: 0006, Cost: 758.140655951\n",
            "Epoch: 0007, Cost: 604.987237722\n",
            "Epoch: 0008, Cost: 485.833647886\n",
            "Epoch: 0009, Cost: 400.493064257\n",
            "Epoch: 0010, Cost: 332.139462611\n",
            "Epoch: 0011, Cost: 281.848751412\n",
            "Epoch: 0012, Cost: 236.456644584\n",
            "Epoch: 0013, Cost: 197.629781383\n",
            "Epoch: 0014, Cost: 169.544745432\n",
            "Epoch: 0015, Cost: 147.191310251\n",
            "Epoch: 0016, Cost: 128.690319041\n",
            "Epoch: 0017, Cost: 105.266384717\n",
            "Epoch: 0018, Cost: 90.222945316\n",
            "Epoch: 0019, Cost: 77.979264247\n",
            "Epoch: 0020, Cost: 67.541146743\n",
            "Epoch: 0021, Cost: 58.591399350\n",
            "Epoch: 0022, Cost: 49.097868714\n",
            "Epoch: 0023, Cost: 42.100242232\n",
            "Epoch: 0024, Cost: 35.480535345\n",
            "Epoch: 0025, Cost: 29.648763703\n",
            "Epoch: 0026, Cost: 27.027016167\n",
            "Epoch: 0027, Cost: 22.354629859\n",
            "Epoch: 0028, Cost: 18.617425577\n",
            "Epoch: 0029, Cost: 15.686083595\n",
            "Epoch: 0030, Cost: 13.217583627\n",
            "Learning finished\n",
            "Accuracy:  0.99292856\n",
            "23661 Prediction:  [9]\n"
          ],
          "name": "stdout"
        },
        {
          "output_type": "display_data",
          "data": {
            "image/png": "[encoded data removed]",
            "text/plain": [
              "<Figure size 432x288 with 1 Axes>"
            ]
          },
          "metadata": {
            "tags": [],
            "needs_background": "light"
          }
        },
        {
          "output_type": "stream",
          "text": [
            "22408 Prediction:  [7]\n"
          ],
          "name": "stdout"
        },
        {
          "output_type": "display_data",
          "data": {
            "image/png": "[encoded data removed]",
            "text/plain": [
              "<Figure size 432x288 with 1 Axes>"
            ]
          },
          "metadata": {
            "tags": [],
            "needs_background": "light"
          }
        },
        {
          "output_type": "stream",
          "text": [
            "7214 Prediction:  [1]\n"
          ],
          "name": "stdout"
        },
        {
          "output_type": "display_data",
          "data": {
            "image/png": "[encoded data removed]",
            "text/plain": [
              "<Figure size 432x288 with 1 Axes>"
            ]
          },
          "metadata": {
            "tags": [],
            "needs_background": "light"
          }
        },
        {
          "output_type": "stream",
          "text": [
            "16230 Prediction:  [1]\n"
          ],
          "name": "stdout"
        },
        {
          "output_type": "display_data",
          "data": {
            "image/png": "[encoded data removed]",
            "text/plain": [
              "<Figure size 432x288 with 1 Axes>"
            ]
          },
          "metadata": {
            "tags": [],
            "needs_background": "light"
          }
        },
        {
          "output_type": "stream",
          "text": [
            "484 Prediction:  [9]\n"
          ],
          "name": "stdout"
        },
        {
          "output_type": "display_data",
          "data": {
            "image/png": "[encoded data removed]",
            "text/plain": [
              "<Figure size 432x288 with 1 Axes>"
            ]
          },
          "metadata": {
            "tags": [],
            "needs_background": "light"
          }
        },
        {
          "output_type": "stream",
          "text": [
            "10106 Prediction:  [0]\n"
          ],
          "name": "stdout"
        },
        {
          "output_type": "display_data",
          "data": {
            "image/png": "[encoded data removed]",
            "text/plain": [
              "<Figure size 432x288 with 1 Axes>"
            ]
          },
          "metadata": {
            "tags": [],
            "needs_background": "light"
          }
        },
        {
          "output_type": "stream",
          "text": [
            "7709 Prediction:  [4]\n"
          ],
          "name": "stdout"
        },
        {
          "output_type": "display_data",
          "data": {
            "image/png": "[encoded data removed]",
            "text/plain": [
              "<Figure size 432x288 with 1 Axes>"
            ]
          },
          "metadata": {
            "tags": [],
            "needs_background": "light"
          }
        },
        {
          "output_type": "stream",
          "text": [
            "25429 Prediction:  [8]\n"
          ],
          "name": "stdout"
        },
        {
          "output_type": "display_data",
          "data": {
            "image/png": "[encoded data removed]",
            "text/plain": [
              "<Figure size 432x288 with 1 Axes>"
            ]
          },
          "metadata": {
            "tags": [],
            "needs_background": "light"
          }
        },
        {
          "output_type": "stream",
          "text": [
            "17727 Prediction:  [5]\n"
          ],
          "name": "stdout"
        },
        {
          "output_type": "display_data",
          "data": {
            "image/png": "[encoded data removed]",
            "text/plain": [
              "<Figure size 432x288 with 1 Axes>"
            ]
          },
          "metadata": {
            "tags": [],
            "needs_background": "light"
          }
        },
        {
          "output_type": "stream",
          "text": [
            "10368 Prediction:  [2]\n"
          ],
          "name": "stdout"
        },
        {
          "output_type": "display_data",
          "data": {
            "image/png": "[encoded data removed]",
            "text/plain": [
              "<Figure size 432x288 with 1 Axes>"
            ]
          },
          "metadata": {
            "tags": [],
            "needs_background": "light"
          }
        }
      ]
    },
    {
      "cell_type": "code",
      "metadata": {
        "colab": {
          "base_uri": "https://localhost:8080/"
        },
        "id": "s5mwILKq8vsM",
        "outputId": "4a78ee1f-216c-4ebc-9aaf-bc0346a713fc"
      },
      "source": [
        "#activiation function을 sigmoid 대신 ReLU를 사용\n",
        "\n",
        "nb_classes = 10\n",
        " \n",
        "# MNIST data image of shape 28 * 28 = 784\n",
        "x = tf.placeholder(tf.float32, [None, 784])\n",
        "# 0 - 9 digits recognition = 10 classes\n",
        "y = tf.placeholder(tf.int32, [None, 1])\n",
        " \n",
        "y_one_hot = tf.one_hot(y, nb_classes)\n",
        "y_one_hot = tf.reshape(y_one_hot, [-1, nb_classes])\n",
        " \n",
        "w1 = tf.Variable(tf.random_normal([784, 256]))\n",
        "b1 = tf.Variable(tf.random_normal([256]))\n",
        "layer1=tf.nn.relu(tf.matmul(x, w1)+b1)\n",
        "\n",
        "w2 = tf.Variable(tf.random_normal([256, 256]))\n",
        "b2 = tf.Variable(tf.random_normal([256]))\n",
        "layer2=tf.nn.relu(tf.matmul(layer1, w2)+b2)\n",
        "\n",
        "w3 = tf.Variable(tf.random_normal([256, nb_classes]))\n",
        "b3 = tf.Variable(tf.random_normal([nb_classes]))\n",
        "\n",
        "# Hypothesis (using softmax)\n",
        "logits = tf.matmul(layer2,w3)+b3\n",
        "hypothesis = tf.nn.softmax(logits)\n",
        " \n",
        "cost_i=tf.nn.softmax_cross_entropy_with_logits(logits=logits, labels=y_one_hot)\n",
        "cost=tf.reduce_mean(cost_i)\n",
        " \n",
        "train = tf.train.GradientDescentOptimizer(learning_rate=1e-4).minimize(cost)\n",
        " \n",
        "# Test model\n",
        "is_correct = tf.equal(tf.argmax(hypothesis, 1), tf.argmax(y_one_hot, 1))\n",
        "# Calculate accuracy\n",
        "accuracy = tf.reduce_mean(tf.cast(is_correct, tf.float32))\n",
        " \n",
        "with tf.Session() as sess:\n",
        "  # parameters\n",
        "  num_epochs = 30\n",
        "  batch_size = 200\n",
        "  num_iterations = int(len(x_data)/ batch_size)\n",
        "  \n",
        "  # Initialize TensorFlow variables\n",
        "  sess.run(tf.global_variables_initializer())\n",
        "  # Training cycle\n",
        "  for epoch in range(num_epochs):\n",
        "    avg_cost = 0\n",
        "    for i in range(num_iterations):\n",
        "      srt = i*batch_size\n",
        "      x_batch = x_data[srt:srt+batch_size]\n",
        "      y_batch = y_data[srt:srt+batch_size]\n",
        "      _, cost_val = sess.run([train, cost], feed_dict={x: x_batch, y:y_batch.reshape(len(y_batch),1)})\n",
        "      avg_cost += cost_val / (num_iterations+1)\n",
        "\n",
        "    print(\"Epoch: {:04d}, Cost: {:.9f}\".format(epoch + 1, avg_cost))\n",
        "    \n",
        "  print(\"Learning finished\")\n",
        " \n",
        "  # Test the model using test sets\n",
        "  print(\n",
        "      \"Accuracy: \",\n",
        "      accuracy.eval(\n",
        "          session=sess, feed_dict={x: x_data, y: y_data.reshape(len(y_data),1)}\n",
        "      ),\n",
        "  )\n",
        " \n",
        "  # Get one and predict\n",
        "  for step in range(10):\n",
        "    r = random.randint(0, len(test_x) - 1)\n",
        "    print(\n",
        "      r, \"Prediction: \",\n",
        "      sess.run(tf.argmax(hypothesis, 1), feed_dict={x: test_x[r : r + 1]}),\n",
        "    )\n",
        " \n",
        "    plt.imshow(\n",
        "      test_x[r : r + 1].reshape(28, 28),\n",
        "      cmap=\"Greys\",\n",
        "      interpolation=\"nearest\",\n",
        "    )\n",
        "    plt.show()"
      ],
      "execution_count": null,
      "outputs": [
        {
          "output_type": "stream",
          "text": [
            "Epoch: 0001, Cost: 20858.621458225\n",
            "Epoch: 0002, Cost: 2741.714196083\n",
            "Epoch: 0003, Cost: 1640.302521620\n",
            "Epoch: 0004, Cost: 1135.093107901\n",
            "Epoch: 0005, Cost: 849.447043396\n",
            "Epoch: 0006, Cost: 657.554443576\n",
            "Epoch: 0007, Cost: 528.110421099\n"
          ],
          "name": "stdout"
        }
      ]
    },
    {
      "cell_type": "code",
      "metadata": {
        "id": "sjXN9rHA_X4G"
      },
      "source": [
        ""
      ],
      "execution_count": null,
      "outputs": []
    }
  ]
}